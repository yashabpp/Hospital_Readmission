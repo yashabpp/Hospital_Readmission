{
 "cells": [
  {
   "cell_type": "markdown",
   "metadata": {},
   "source": [
    "### Predictive Modeling for Hospital Readmission"
   ]
  },
  {
   "cell_type": "code",
   "execution_count": 1,
   "metadata": {},
   "outputs": [],
   "source": [
    "# import the libraries needed\n",
    "import pandas as pd\n",
    "import numpy as np\n",
    "import matplotlib.pyplot as plt\n",
    "import seaborn as sb"
   ]
  },
  {
   "cell_type": "code",
   "execution_count": 2,
   "metadata": {},
   "outputs": [],
   "source": [
    "from numpy import percentile\n",
    "import scipy as sy"
   ]
  },
  {
   "cell_type": "code",
   "execution_count": 3,
   "metadata": {},
   "outputs": [],
   "source": [
    "#pip install kmodes"
   ]
  },
  {
   "cell_type": "code",
   "execution_count": 5,
   "metadata": {},
   "outputs": [],
   "source": [
    "# Load the dataset\n",
    "data=pd.read_csv('diabetes.csv')"
   ]
  },
  {
   "cell_type": "code",
   "execution_count": 6,
   "metadata": {},
   "outputs": [
    {
     "name": "stdout",
     "output_type": "stream",
     "text": [
      "Number of Records= 768\n",
      "Number of Attributes= 9\n"
     ]
    }
   ],
   "source": [
    "# Size of the dataset\n",
    "print('Number of Records=',data.shape[0])\n",
    "print('Number of Attributes=',data.shape[1])"
   ]
  },
  {
   "cell_type": "code",
   "execution_count": 7,
   "metadata": {
    "scrolled": true
   },
   "outputs": [
    {
     "name": "stdout",
     "output_type": "stream",
     "text": [
      "Predictor Attributes= Index(['Pregnancies', 'Glucose', 'BloodPressure', 'SkinThickness', 'Insulin',\n",
      "       'BMI', 'DiabetesPedigreeFunction', 'Age'],\n",
      "      dtype='object')\n",
      "Target Attribute= Outcome\n"
     ]
    }
   ],
   "source": [
    "# Identifying Predictor and Target Attributes\n",
    "print('Predictor Attributes=',data.columns[:-1])\n",
    "print('Target Attribute=',data.columns[-1])"
   ]
  },
  {
   "cell_type": "code",
   "execution_count": 8,
   "metadata": {},
   "outputs": [
    {
     "data": {
      "text/plain": [
       "Pregnancies                   int64\n",
       "Glucose                       int64\n",
       "BloodPressure                 int64\n",
       "SkinThickness                 int64\n",
       "Insulin                       int64\n",
       "BMI                         float64\n",
       "DiabetesPedigreeFunction    float64\n",
       "Age                           int64\n",
       "Outcome                       int64\n",
       "dtype: object"
      ]
     },
     "execution_count": 8,
     "metadata": {},
     "output_type": "execute_result"
    }
   ],
   "source": [
    "data.dtypes"
   ]
  },
  {
   "cell_type": "code",
   "execution_count": 11,
   "metadata": {},
   "outputs": [
    {
     "data": {
      "text/plain": [
       "(768, 9)"
      ]
     },
     "execution_count": 11,
     "metadata": {},
     "output_type": "execute_result"
    }
   ],
   "source": [
    "# Finding the new dimension of the dataset\n",
    "data.shape"
   ]
  },
  {
   "cell_type": "code",
   "execution_count": 12,
   "metadata": {},
   "outputs": [],
   "source": [
    "pd.set_option('display.precision', 2)"
   ]
  },
  {
   "cell_type": "code",
   "execution_count": 13,
   "metadata": {},
   "outputs": [
    {
     "name": "stdout",
     "output_type": "stream",
     "text": [
      "No. of Numeric Features= 8\n"
     ]
    }
   ],
   "source": [
    "# Numerical Features and checking of null values\n",
    "Num_Cols=['time_in_hospital', 'num_lab_procedures', 'num_procedures', 'num_medications', 'number_outpatient', 'number_emergency', 'number_inpatient', 'number_diagnoses']\n",
    "print('No. of Numeric Features=',len(Num_Cols))\n",
    "for i in range(len(Num_Cols)):\n",
    "    if data[Num_Cols[i]].isnull().sum()>0:\n",
    "        print(Num_Cols[i],data[Num_Cols[i]].isnull().sum())"
   ]
  },
  {
   "cell_type": "code",
   "execution_count": 14,
   "metadata": {},
   "outputs": [],
   "source": [
    "def univariate_num(a):\n",
    "    mean = np.mean(a)\n",
    "    median = np.median(a)\n",
    "    variance = np.var(a)\n",
    "    Std_Dev =np.std(a)\n",
    "    quartiles=percentile(a,[25,75])\n",
    "    minimum=min(a)\n",
    "    Q1 = quartiles[0]\n",
    "    Q3 = quartiles[1]\n",
    "    maximum = max(a)\n",
    "    iqr=quartiles[1]-quartiles[0]\n",
    "    skew = sy.stats.skew(a)\n",
    "    return mean,median,variance,Std_Dev,minimum,Q1,Q3,iqr,maximum,skew"
   ]
  },
  {
   "cell_type": "code",
   "execution_count": 15,
   "metadata": {},
   "outputs": [
    {
     "name": "stdout",
     "output_type": "stream",
     "text": [
      "                     Mean  Median  Variance     SD  Min    Q1    Q3   IQR  \\\n",
      "time_in_hospital     4.38     4.0      8.81   2.97    1   2.0   6.0   4.0   \n",
      "num_lab_procedures  42.91    44.0    384.57  19.61    1  31.0  57.0  26.0   \n",
      "num_procedures       1.33     1.0      2.90   1.70    0   0.0   2.0   2.0   \n",
      "num_medications     15.98    15.0     65.53   8.10    1  10.0  20.0  10.0   \n",
      "number_outpatient    0.37     0.0      1.60   1.27    0   0.0   0.0   0.0   \n",
      "number_emergency     0.20     0.0      0.88   0.94    0   0.0   0.0   0.0   \n",
      "number_inpatient     0.63     0.0      1.59   1.26    0   0.0   1.0   1.0   \n",
      "number_diagnoses     7.40     8.0      3.77   1.94    1   6.0   9.0   3.0   \n",
      "\n",
      "                    Max   Skew  \n",
      "time_in_hospital     14   1.14  \n",
      "num_lab_procedures  132  -0.24  \n",
      "num_procedures        6   1.32  \n",
      "num_medications      81   1.34  \n",
      "number_outpatient    42   8.84  \n",
      "number_emergency     76  22.85  \n",
      "number_inpatient     21   3.63  \n",
      "number_diagnoses     16  -0.86  \n"
     ]
    }
   ],
   "source": [
    "Num_Analysis=[]\n",
    "num_ana_names=['Mean','Median','Variance','SD','Min','Q1','Q3','IQR','Max','Skew']\n",
    "for i in range(len(Num_Cols)):\n",
    "    Num_Analysis.append(univariate_num(data[Num_Cols[i]]))\n",
    "df_Num_Analysis=pd.DataFrame(Num_Analysis,columns=num_ana_names)\n",
    "df_Num_Analysis.rename(index={0:'time_in_hospital',1:'num_lab_procedures',2:'num_procedures',3:'num_medications',4:'number_outpatient',5:'number_emergency',6:'number_inpatient',7:'number_diagnoses'},inplace=True)\n",
    "print(df_Num_Analysis)"
   ]
  },
  {
   "cell_type": "code",
   "execution_count": 16,
   "metadata": {},
   "outputs": [
    {
     "name": "stdout",
     "output_type": "stream",
     "text": [
      "Boxplot\n"
     ]
    },
    {
     "data": {
      "image/png": "[encoded data removed]",
      "text/plain": [
       "<Figure size 432x288 with 1 Axes>"
      ]
     },
     "metadata": {
      "needs_background": "light"
     },
     "output_type": "display_data"
    },
    {
     "data": {
      "image/png": "[encoded data removed]",
      "text/plain": [
       "<Figure size 432x288 with 1 Axes>"
      ]
     },
     "metadata": {
      "needs_background": "light"
     },
     "output_type": "display_data"
    },
    {
     "data": {
      "image/png": "[encoded data removed]",
      "text/plain": [
       "<Figure size 432x288 with 1 Axes>"
      ]
     },
     "metadata": {
      "needs_background": "light"
     },
     "output_type": "display_data"
    },
    {
     "data": {
      "image/png": "[encoded data removed]",
      "text/plain": [
       "<Figure size 432x288 with 1 Axes>"
      ]
     },
     "metadata": {
      "needs_background": "light"
     },
     "output_type": "display_data"
    },
    {
     "data": {
      "image/png": "[encoded data removed]",
      "text/plain": [
       "<Figure size 432x288 with 1 Axes>"
      ]
     },
     "metadata": {
      "needs_background": "light"
     },
     "output_type": "display_data"
    },
    {
     "data": {
      "image/png": "[encoded data removed]",
      "text/plain": [
       "<Figure size 432x288 with 1 Axes>"
      ]
     },
     "metadata": {
      "needs_background": "light"
     },
     "output_type": "display_data"
    },
    {
     "data": {
      "image/png": "[encoded data removed]",
      "text/plain": [
       "<Figure size 432x288 with 1 Axes>"
      ]
     },
     "metadata": {
      "needs_background": "light"
     },
     "output_type": "display_data"
    },
    {
     "data": {
      "image/png": "[encoded data removed]",
      "text/plain": [
       "<Figure size 432x288 with 1 Axes>"
      ]
     },
     "metadata": {
      "needs_background": "light"
     },
     "output_type": "display_data"
    }
   ],
   "source": [
    "print('Boxplot')\n",
    "for i in range(len(Num_Cols)):\n",
    "    plt.title(Num_Cols[i])\n",
    "    plt.boxplot(data[Num_Cols[i]])\n",
    "    plt.show()"
   ]
  },
  {
   "cell_type": "code",
   "execution_count": 17,
   "metadata": {},
   "outputs": [
    {
     "name": "stdout",
     "output_type": "stream",
     "text": [
      "                    time_in_hospital  num_lab_procedures  num_procedures  \\\n",
      "time_in_hospital            1.00e+00            3.20e-01            0.19   \n",
      "num_lab_procedures          3.20e-01            1.00e+00            0.05   \n",
      "num_procedures              1.90e-01            5.17e-02            1.00   \n",
      "num_medications             4.64e-01            2.65e-01            0.38   \n",
      "number_outpatient          -9.22e-03           -7.60e-03           -0.03   \n",
      "number_emergency           -9.58e-03           -9.76e-04           -0.04   \n",
      "number_inpatient            7.42e-02            3.99e-02           -0.07   \n",
      "number_diagnoses            2.21e-01            1.50e-01            0.07   \n",
      "\n",
      "                    num_medications  number_outpatient  number_emergency  \\\n",
      "time_in_hospital               0.46          -9.22e-03         -9.58e-03   \n",
      "num_lab_procedures             0.27          -7.60e-03         -9.76e-04   \n",
      "num_procedures                 0.38          -2.53e-02         -3.87e-02   \n",
      "num_medications                1.00           4.60e-02          1.40e-02   \n",
      "number_outpatient              0.05           1.00e+00          9.17e-02   \n",
      "number_emergency               0.01           9.17e-02          1.00e+00   \n",
      "number_inpatient               0.07           1.08e-01          2.68e-01   \n",
      "number_diagnoses               0.26           9.48e-02          5.60e-02   \n",
      "\n",
      "                    number_inpatient  number_diagnoses  \n",
      "time_in_hospital                0.07              0.22  \n",
      "num_lab_procedures              0.04              0.15  \n",
      "num_procedures                 -0.07              0.07  \n",
      "num_medications                 0.07              0.26  \n",
      "number_outpatient               0.11              0.09  \n",
      "number_emergency                0.27              0.06  \n",
      "number_inpatient                1.00              0.10  \n",
      "number_diagnoses                0.10              1.00  \n"
     ]
    },
    {
     "data": {
      "image/png": "[encoded data removed]",
      "text/plain": [
       "<Figure size 432x288 with 2 Axes>"
      ]
     },
     "metadata": {
      "needs_background": "light"
     },
     "output_type": "display_data"
    }
   ],
   "source": [
    "Num_Corr=data[Num_Cols].corr()\n",
    "print(Num_Corr)\n",
    "sb.heatmap(Num_Corr,annot=True)\n",
    "plt.show()"
   ]
  },
  {
   "cell_type": "code",
   "execution_count": 18,
   "metadata": {},
   "outputs": [
    {
     "name": "stdout",
     "output_type": "stream",
     "text": [
      "No. of Categorical Features= 36\n"
     ]
    }
   ],
   "source": [
    "# Categorical Features\n",
    "Cat_Cols=['race', 'gender', 'age','weight','max_glu_serum', 'A1Cresult', 'examide','citoglipton', 'metformin', 'repaglinide', 'nateglinide', 'chlorpropamide', 'glimepiride', 'acetohexamide', 'glipizide', 'glyburide', 'tolbutamide', 'pioglitazone', 'rosiglitazone', 'acarbose', 'miglitol', 'troglitazone', 'tolazamide', 'insulin', 'glyburide-metformin', 'glipizide-metformin', 'glimepiride-pioglitazone', 'metformin-rosiglitazone', 'metformin-pioglitazone', 'change', 'diabetesMed', 'medical_specialty','payer_code','diag_1','diag_2','diag_3']\n",
    "print('No. of Categorical Features=',len(Cat_Cols))"
   ]
  },
  {
   "cell_type": "code",
   "execution_count": 19,
   "metadata": {},
   "outputs": [
    {
     "name": "stdout",
     "output_type": "stream",
     "text": [
      "col_0            Count\n",
      "race                  \n",
      "?                 2234\n",
      "AfricanAmerican  18770\n",
      "Asian              627\n",
      "Caucasian        74215\n",
      "Hispanic          2015\n",
      "Other             1472 \n",
      "\n",
      "col_0            Count\n",
      "gender                \n",
      "Female           53451\n",
      "Male             45879\n",
      "Unknown/Invalid      3 \n",
      "\n",
      "col_0     Count\n",
      "age            \n",
      "[0-10)      159\n",
      "[10-20)     690\n",
      "[20-30)    1649\n",
      "[30-40)    3764\n",
      "[40-50)    9606\n",
      "[50-60)   17059\n",
      "[60-70)   22056\n",
      "[70-80)   25329\n",
      "[80-90)   16432\n",
      "[90-100)   2589 \n",
      "\n",
      "col_0      Count\n",
      "weight          \n",
      ">200           3\n",
      "?          96210\n",
      "[0-25)        48\n",
      "[100-125)    617\n",
      "[125-150)    143\n",
      "[150-175)     34\n",
      "[175-200)     11\n",
      "[25-50)       90\n",
      "[50-75)      866\n",
      "[75-100)    1311 \n",
      "\n",
      "col_0          Count\n",
      "max_glu_serum       \n",
      ">200            1419\n",
      ">300            1188\n",
      "None           94181\n",
      "Norm            2545 \n",
      "\n",
      "col_0      Count\n",
      "A1Cresult       \n",
      ">7          3773\n",
      ">8          8137\n",
      "None       82501\n",
      "Norm        4922 \n",
      "\n",
      "col_0    Count\n",
      "examide       \n",
      "No       99333 \n",
      "\n",
      "col_0        Count\n",
      "citoglipton       \n",
      "No           99333 \n",
      "\n",
      "col_0      Count\n",
      "metformin       \n",
      "Down         574\n",
      "No         79490\n",
      "Steady     18206\n",
      "Up          1063 \n",
      "\n",
      "col_0        Count\n",
      "repaglinide       \n",
      "Down            43\n",
      "No           97815\n",
      "Steady        1368\n",
      "Up             107 \n",
      "\n",
      "col_0        Count\n",
      "nateglinide       \n",
      "Down            11\n",
      "No           98644\n",
      "Steady         654\n",
      "Up              24 \n",
      "\n",
      "col_0           Count\n",
      "chlorpropamide       \n",
      "Down                1\n",
      "No              99248\n",
      "Steady             78\n",
      "Up                  6 \n",
      "\n",
      "col_0        Count\n",
      "glimepiride       \n",
      "Down           191\n",
      "No           94212\n",
      "Steady        4608\n",
      "Up             322 \n",
      "\n",
      "col_0          Count\n",
      "acetohexamide       \n",
      "No             99332\n",
      "Steady             1 \n",
      "\n",
      "col_0      Count\n",
      "glipizide       \n",
      "Down         548\n",
      "No         86802\n",
      "Steady     11219\n",
      "Up           764 \n",
      "\n",
      "col_0      Count\n",
      "glyburide       \n",
      "Down         560\n",
      "No         88810\n",
      "Steady      9162\n",
      "Up           801 \n",
      "\n",
      "col_0        Count\n",
      "tolbutamide       \n",
      "No           99312\n",
      "Steady          21 \n",
      "\n",
      "col_0         Count\n",
      "pioglitazone       \n",
      "Down            117\n",
      "No            92079\n",
      "Steady         6907\n",
      "Up              230 \n",
      "\n",
      "col_0          Count\n",
      "rosiglitazone       \n",
      "Down              85\n",
      "No             93029\n",
      "Steady          6048\n",
      "Up               171 \n",
      "\n",
      "col_0     Count\n",
      "acarbose       \n",
      "Down          3\n",
      "No        99028\n",
      "Steady      292\n",
      "Up           10 \n",
      "\n",
      "col_0     Count\n",
      "miglitol       \n",
      "Down          5\n",
      "No        99295\n",
      "Steady       31\n",
      "Up            2 \n",
      "\n",
      "col_0         Count\n",
      "troglitazone       \n",
      "No            99330\n",
      "Steady            3 \n",
      "\n",
      "col_0       Count\n",
      "tolazamide       \n",
      "No          99294\n",
      "Steady         38\n",
      "Up              1 \n",
      "\n",
      "col_0    Count\n",
      "insulin       \n",
      "Down     11908\n",
      "No       46375\n",
      "Steady   30064\n",
      "Up       10986 \n",
      "\n",
      "col_0                Count\n",
      "glyburide-metformin       \n",
      "Down                     6\n",
      "No                   98636\n",
      "Steady                 683\n",
      "Up                       8 \n",
      "\n",
      "col_0                Count\n",
      "glipizide-metformin       \n",
      "No                   99320\n",
      "Steady                  13 \n",
      "\n",
      "col_0                     Count\n",
      "glimepiride-pioglitazone       \n",
      "No                        99332\n",
      "Steady                        1 \n",
      "\n",
      "col_0                    Count\n",
      "metformin-rosiglitazone       \n",
      "No                       99331\n",
      "Steady                       2 \n",
      "\n",
      "col_0                   Count\n",
      "metformin-pioglitazone       \n",
      "No                      99332\n",
      "Steady                      1 \n",
      "\n",
      "col_0   Count\n",
      "change       \n",
      "Ch      46119\n",
      "No      53214 \n",
      "\n",
      "col_0        Count\n",
      "diabetesMed       \n",
      "No           22622\n",
      "Yes          76711 \n",
      "\n",
      "col_0                                 Count\n",
      "medical_specialty                          \n",
      "?                                     48608\n",
      "AllergyandImmunology                      7\n",
      "Anesthesiology                           12\n",
      "Anesthesiology-Pediatric                 19\n",
      "Cardiology                             5279\n",
      "Cardiology-Pediatric                      7\n",
      "DCPTEAM                                   5\n",
      "Dentistry                                 4\n",
      "Dermatology                               1\n",
      "Emergency/Trauma                       7419\n",
      "Endocrinology                           119\n",
      "Endocrinology-Metabolism                  8\n",
      "Family/GeneralPractice                 7251\n",
      "Gastroenterology                        538\n",
      "Gynecology                               58\n",
      "Hematology                               75\n",
      "Hematology/Oncology                     187\n",
      "Hospitalist                              57\n",
      "InfectiousDiseases                       37\n",
      "InternalMedicine                      14236\n",
      "Nephrology                             1539\n",
      "Neurology                               201\n",
      "Neurophysiology                           1\n",
      "Obsterics&Gynecology-GynecologicOnco     25\n",
      "Obstetrics                               19\n",
      "ObstetricsandGynecology                 669\n",
      "Oncology                                319\n",
      "Ophthalmology                            38\n",
      "Orthopedics                            1392\n",
      "Orthopedics-Reconstructive             1230\n",
      "...                                     ...\n",
      "Perinatology                              1\n",
      "PhysicalMedicineandRehabilitation       391\n",
      "PhysicianNotFound                        10\n",
      "Podiatry                                100\n",
      "Proctology                                1\n",
      "Psychiatry                              853\n",
      "Psychiatry-Addictive                      1\n",
      "Psychiatry-Child/Adolescent               7\n",
      "Psychology                              101\n",
      "Pulmonology                             854\n",
      "Radiologist                            1121\n",
      "Radiology                                53\n",
      "Resident                                  2\n",
      "Rheumatology                             17\n",
      "Speech                                    1\n",
      "SportsMedicine                            1\n",
      "Surgeon                                  45\n",
      "Surgery-Cardiovascular                   98\n",
      "Surgery-Cardiovascular/Thoracic         642\n",
      "Surgery-Colon&Rectal                     11\n",
      "Surgery-General                        3059\n",
      "Surgery-Maxillofacial                     9\n",
      "Surgery-Neuro                           462\n",
      "Surgery-Pediatric                         8\n",
      "Surgery-Plastic                          40\n",
      "Surgery-PlasticwithinHeadandNeck          1\n",
      "Surgery-Thoracic                        108\n",
      "Surgery-Vascular                        525\n",
      "SurgicalSpecialty                        33\n",
      "Urology                                 682\n",
      "\n",
      "[73 rows x 1 columns] \n",
      "\n",
      "col_0       Count\n",
      "payer_code       \n",
      "?           39393\n",
      "BC           4601\n",
      "CH            142\n",
      "CM           1879\n",
      "CP           2464\n",
      "DM            545\n",
      "FR              1\n",
      "HM           6195\n",
      "MC          31332\n",
      "MD           3473\n",
      "MP             79\n",
      "OG           1011\n",
      "OT             92\n",
      "PO            585\n",
      "SI             55\n",
      "SP           4941\n",
      "UN           2410\n",
      "WC            135 \n",
      "\n",
      "col_0   Count\n",
      "diag_1       \n",
      "10          1\n",
      "11         10\n",
      "110         2\n",
      "112        69\n",
      "114         1\n",
      "115         2\n",
      "117         8\n",
      "131         2\n",
      "133         1\n",
      "135        27\n",
      "136         5\n",
      "141         6\n",
      "142         4\n",
      "143         1\n",
      "145         1\n",
      "146         3\n",
      "147         2\n",
      "148         1\n",
      "149         2\n",
      "150        26\n",
      "151        56\n",
      "152        15\n",
      "153       296\n",
      "154        88\n",
      "155        42\n",
      "156        16\n",
      "157        94\n",
      "158        11\n",
      "160         1\n",
      "161        10\n",
      "...       ...\n",
      "989        11\n",
      "990         2\n",
      "991         7\n",
      "992         9\n",
      "994         1\n",
      "995        78\n",
      "996      1937\n",
      "997       416\n",
      "998       774\n",
      "999        26\n",
      "?          20\n",
      "E909        1\n",
      "V07         1\n",
      "V25         1\n",
      "V26         2\n",
      "V43         1\n",
      "V45         5\n",
      "V51         1\n",
      "V53        44\n",
      "V54        45\n",
      "V55        70\n",
      "V56        16\n",
      "V57      1200\n",
      "V58       226\n",
      "V60         1\n",
      "V63         7\n",
      "V66         1\n",
      "V67         1\n",
      "V70         1\n",
      "V71         9\n",
      "\n",
      "[715 rows x 1 columns] \n",
      "\n",
      "col_0   Count\n",
      "diag_2       \n",
      "11          3\n",
      "110         8\n",
      "111         1\n",
      "112       197\n",
      "114         1\n",
      "115         1\n",
      "117        10\n",
      "123         1\n",
      "131         3\n",
      "135       113\n",
      "136         6\n",
      "137         1\n",
      "138        22\n",
      "140         1\n",
      "141         2\n",
      "145         1\n",
      "150        33\n",
      "151        22\n",
      "152        11\n",
      "153       106\n",
      "154        43\n",
      "155        29\n",
      "156        14\n",
      "157        73\n",
      "162       346\n",
      "163         1\n",
      "164         1\n",
      "171         2\n",
      "172         7\n",
      "173         1\n",
      "...       ...\n",
      "V15       128\n",
      "V16         2\n",
      "V17         9\n",
      "V18         8\n",
      "V23         3\n",
      "V25         1\n",
      "V42       262\n",
      "V43       130\n",
      "V44        11\n",
      "V45       404\n",
      "V46        11\n",
      "V49        39\n",
      "V50         1\n",
      "V53         2\n",
      "V54        77\n",
      "V55         2\n",
      "V57         9\n",
      "V58       156\n",
      "V60         1\n",
      "V61         2\n",
      "V62        66\n",
      "V63        29\n",
      "V64        27\n",
      "V65        23\n",
      "V66         2\n",
      "V69         1\n",
      "V70         7\n",
      "V72        13\n",
      "V85       168\n",
      "V86         2\n",
      "\n",
      "[748 rows x 1 columns] \n",
      "\n",
      "col_0   Count\n",
      "diag_3       \n",
      "11          2\n",
      "110        20\n",
      "111         1\n",
      "112       205\n",
      "115         1\n",
      "117         7\n",
      "122         1\n",
      "123         1\n",
      "131         6\n",
      "132         3\n",
      "135        63\n",
      "136         2\n",
      "138        20\n",
      "139         2\n",
      "14          1\n",
      "141         4\n",
      "146         1\n",
      "148         1\n",
      "150        11\n",
      "151         8\n",
      "152         2\n",
      "153        50\n",
      "154        13\n",
      "155        11\n",
      "156         4\n",
      "157        30\n",
      "158         1\n",
      "161         3\n",
      "162       153\n",
      "163         4\n",
      "...       ...\n",
      "V15       334\n",
      "V16         7\n",
      "V17        22\n",
      "V18        15\n",
      "V22         1\n",
      "V23         4\n",
      "V25         2\n",
      "V27        37\n",
      "V42       242\n",
      "V43       210\n",
      "V44        25\n",
      "V45      1380\n",
      "V46        59\n",
      "V49        54\n",
      "V53         7\n",
      "V54        58\n",
      "V55         8\n",
      "V57         7\n",
      "V58       501\n",
      "V60         4\n",
      "V61         5\n",
      "V62        29\n",
      "V63        13\n",
      "V64        44\n",
      "V65        24\n",
      "V66         8\n",
      "V70         2\n",
      "V72         8\n",
      "V85        95\n",
      "V86         3\n",
      "\n",
      "[787 rows x 1 columns] \n",
      "\n"
     ]
    }
   ],
   "source": [
    "for i in range(len(Cat_Cols)):\n",
    "    print(pd.crosstab(index=data[Cat_Cols[i]],columns='Count'),'\\n')"
   ]
  },
  {
   "cell_type": "code",
   "execution_count": 20,
   "metadata": {},
   "outputs": [
    {
     "data": {
      "text/plain": [
       "(99330, 49)"
      ]
     },
     "execution_count": 20,
     "metadata": {},
     "output_type": "execute_result"
    }
   ],
   "source": [
    "data=data.loc[~data.gender.isin(['Unknown/Invalid'])]\n",
    "data.shape"
   ]
  },
  {
   "cell_type": "code",
   "execution_count": 21,
   "metadata": {},
   "outputs": [
    {
     "name": "stdout",
     "output_type": "stream",
     "text": [
      "No. of Categorical Features 30\n"
     ]
    }
   ],
   "source": [
    "# Attributes examide and citoglipton have single value and hence no effect on target attribute\n",
    "# Attribute Weight has 96% missing value and hence can be removed\n",
    "# Attribute payer_code will not have any effect on the Target and hence can be removed\n",
    "# Attributes diag_2 and diag_3 are detailed code for the diagnosis and hence can be removed from analysis\n",
    "data=data.drop(['examide','citoglipton','weight','payer_code','diag_2','diag_3'], axis=1)\n",
    "Cat_Cols=[ele for ele in Cat_Cols if ele not in ['examide','citoglipton','weight','payer_code','diag_2','diag_3']]\n",
    "print('No. of Categorical Features',len(Cat_Cols))"
   ]
  },
  {
   "cell_type": "code",
   "execution_count": 22,
   "metadata": {},
   "outputs": [],
   "source": [
    "# Replace ? with NaN value\n",
    "data=data.replace('?',np.nan)"
   ]
  },
  {
   "cell_type": "code",
   "execution_count": 23,
   "metadata": {},
   "outputs": [
    {
     "name": "stdout",
     "output_type": "stream",
     "text": [
      "race 2232 percentage 2\n",
      "medical_specialty 48606 percentage 48\n",
      "diag_1 20 percentage 0\n"
     ]
    }
   ],
   "source": [
    "# Categorical Features and checking of null values\n",
    "for i in range(len(Cat_Cols)):\n",
    "    if data[Cat_Cols[i]].isnull().sum()>0:\n",
    "        print(Cat_Cols[i],data[Cat_Cols[i]].isnull().sum(), 'percentage',int(data[Cat_Cols[i]].isnull().sum()*100/data.shape[0]))        "
   ]
  },
  {
   "cell_type": "code",
   "execution_count": 24,
   "metadata": {},
   "outputs": [
    {
     "data": {
      "text/html": [
       "<div>\n",
       "<style scoped>\n",
       "    .dataframe tbody tr th:only-of-type {\n",
       "        vertical-align: middle;\n",
       "    }\n",
       "\n",
       "    .dataframe tbody tr th {\n",
       "        vertical-align: top;\n",
       "    }\n",
       "\n",
       "    .dataframe thead th {\n",
       "        text-align: right;\n",
       "    }\n",
       "</style>\n",
       "<table border=\"1\" class=\"dataframe\">\n",
       "  <thead>\n",
       "    <tr style=\"text-align: right;\">\n",
       "      <th>readmitted</th>\n",
       "      <th>&lt;30</th>\n",
       "      <th>&gt;30</th>\n",
       "      <th>NO</th>\n",
       "    </tr>\n",
       "    <tr>\n",
       "      <th>race</th>\n",
       "      <th></th>\n",
       "      <th></th>\n",
       "      <th></th>\n",
       "    </tr>\n",
       "  </thead>\n",
       "  <tbody>\n",
       "    <tr>\n",
       "      <th>AfricanAmerican</th>\n",
       "      <td>2149</td>\n",
       "      <td>6618</td>\n",
       "      <td>10003</td>\n",
       "    </tr>\n",
       "    <tr>\n",
       "      <th>Asian</th>\n",
       "      <td>65</td>\n",
       "      <td>161</td>\n",
       "      <td>401</td>\n",
       "    </tr>\n",
       "    <tr>\n",
       "      <th>Caucasian</th>\n",
       "      <td>8555</td>\n",
       "      <td>27096</td>\n",
       "      <td>38564</td>\n",
       "    </tr>\n",
       "    <tr>\n",
       "      <th>Hispanic</th>\n",
       "      <td>212</td>\n",
       "      <td>641</td>\n",
       "      <td>1162</td>\n",
       "    </tr>\n",
       "    <tr>\n",
       "      <th>Other</th>\n",
       "      <td>144</td>\n",
       "      <td>446</td>\n",
       "      <td>881</td>\n",
       "    </tr>\n",
       "  </tbody>\n",
       "</table>\n",
       "</div>"
      ],
      "text/plain": [
       "readmitted        <30    >30     NO\n",
       "race                               \n",
       "AfricanAmerican  2149   6618  10003\n",
       "Asian              65    161    401\n",
       "Caucasian        8555  27096  38564\n",
       "Hispanic          212    641   1162\n",
       "Other             144    446    881"
      ]
     },
     "execution_count": 24,
     "metadata": {},
     "output_type": "execute_result"
    }
   ],
   "source": [
    "pd.crosstab(data['race'],data['readmitted'])"
   ]
  },
  {
   "cell_type": "code",
   "execution_count": 25,
   "metadata": {},
   "outputs": [],
   "source": [
    "race_temp=pd.concat([data['age'],data['gender'],data['race']], axis=1)\n",
    "race_temp_yes=race_temp.loc[data['race'].notnull(),['age','gender','race']]\n",
    "race_temp_no=race_temp.loc[data['race'].isnull(),['age','gender']]"
   ]
  },
  {
   "cell_type": "code",
   "execution_count": 26,
   "metadata": {},
   "outputs": [
    {
     "name": "stdout",
     "output_type": "stream",
     "text": [
      "Int64Index([    19,     20,     21,     54,     65,     87,     99,    111,\n",
      "               127,    177,\n",
      "            ...\n",
      "            101511, 101525, 101533, 101537, 101584, 101659, 101671, 101702,\n",
      "            101715, 101732],\n",
      "           dtype='int64', length=2232)\n"
     ]
    }
   ],
   "source": [
    "race_temp_no_idx=data.index[(data['race'].isnull())]\n",
    "print(race_temp_no_idx)"
   ]
  },
  {
   "cell_type": "code",
   "execution_count": 30,
   "metadata": {},
   "outputs": [],
   "source": [
    "from kmodes.kmodes import KModes\n",
    "km = KModes(n_clusters=5, init='Huang', n_init=5, verbose=1)"
   ]
  },
  {
   "cell_type": "code",
   "execution_count": 31,
   "metadata": {},
   "outputs": [
    {
     "name": "stdout",
     "output_type": "stream",
     "text": [
      "Init: initializing centroids\n",
      "Init: initializing clusters\n",
      "Starting iterations...\n",
      "Run 1, iteration: 1/100, moves: 1251, cost: 66451.0\n",
      "Init: initializing centroids\n",
      "Init: initializing clusters\n",
      "Starting iterations...\n",
      "Run 2, iteration: 1/100, moves: 0, cost: 68279.0\n",
      "Init: initializing centroids\n",
      "Init: initializing clusters\n",
      "Starting iterations...\n",
      "Run 3, iteration: 1/100, moves: 2759, cost: 62073.0\n",
      "Init: initializing centroids\n",
      "Init: initializing clusters\n",
      "Starting iterations...\n",
      "Run 4, iteration: 1/100, moves: 19750, cost: 68520.0\n",
      "Run 4, iteration: 2/100, moves: 683, cost: 68520.0\n",
      "Init: initializing centroids\n",
      "Init: initializing clusters\n",
      "Starting iterations...\n",
      "Run 5, iteration: 1/100, moves: 0, cost: 77282.0\n",
      "Best run was number 3\n"
     ]
    }
   ],
   "source": [
    "clusters = km.fit_predict(race_temp_yes)"
   ]
  },
  {
   "cell_type": "code",
   "execution_count": 32,
   "metadata": {},
   "outputs": [
    {
     "name": "stdout",
     "output_type": "stream",
     "text": [
      "[['[80-90)' 'Female' 'Caucasian']\n",
      " ['[60-70)' 'Male' 'Caucasian']\n",
      " ['[70-80)' 'Female' 'Caucasian']\n",
      " ['[70-80)' 'Male' 'Caucasian']\n",
      " ['[50-60)' 'Female' 'AfricanAmerican']]\n"
     ]
    }
   ],
   "source": [
    "print(km.cluster_centroids_)"
   ]
  },
  {
   "cell_type": "code",
   "execution_count": 33,
   "metadata": {},
   "outputs": [],
   "source": [
    "km_test=[]\n",
    "race_repl=[]\n",
    "for i in range(len(race_temp_no)):\n",
    "    temp=np.array([[race_temp_no.iloc[i,0]],[race_temp_no.iloc[i,1]]])\n",
    "    km_test.append(km.predict(temp))\n",
    "    race_repl.append(km_test[i][0:1].item())"
   ]
  },
  {
   "cell_type": "code",
   "execution_count": 34,
   "metadata": {},
   "outputs": [],
   "source": [
    "for i in range(len(race_temp_no)):\n",
    "    data.loc[race_temp_no_idx[i],'race']=race_repl[i]"
   ]
  },
  {
   "cell_type": "code",
   "execution_count": 35,
   "metadata": {},
   "outputs": [],
   "source": [
    "data['race']=data['race'].replace(0,'Caucasian')\n",
    "data['race']=data['race'].replace(1,'Caucasian')\n",
    "data['race']=data['race'].replace(2,'Caucasian')\n",
    "data['race']=data['race'].replace(3,'Caucasian')\n",
    "data['race']=data['race'].replace(4,'AfricanAmerican')"
   ]
  },
  {
   "cell_type": "code",
   "execution_count": 36,
   "metadata": {},
   "outputs": [
    {
     "data": {
      "text/plain": [
       "array(['Caucasian', 'AfricanAmerican', 'Other', 'Asian', 'Hispanic'],\n",
       "      dtype=object)"
      ]
     },
     "execution_count": 36,
     "metadata": {},
     "output_type": "execute_result"
    }
   ],
   "source": [
    "data['race'].unique()"
   ]
  },
  {
   "cell_type": "code",
   "execution_count": 37,
   "metadata": {},
   "outputs": [],
   "source": [
    "diag1_no_idx=data.index[data['diag_1'].isnull()]\n",
    "diag1_no_rec=data.loc[diag1_no_idx,['diabetesMed','medical_specialty','max_glu_serum','A1Cresult']]"
   ]
  },
  {
   "cell_type": "code",
   "execution_count": 38,
   "metadata": {},
   "outputs": [
    {
     "name": "stdout",
     "output_type": "stream",
     "text": [
      "diabetesMed\n",
      "No      5\n",
      "Yes    15\n",
      "dtype: int64\n"
     ]
    }
   ],
   "source": [
    "print(diag1_no_rec.groupby('diabetesMed').size())"
   ]
  },
  {
   "cell_type": "code",
   "execution_count": 39,
   "metadata": {},
   "outputs": [],
   "source": [
    "for i in range(len(diag1_no_idx)):\n",
    "    if diag1_no_rec.loc[diag1_no_idx[i], 'diabetesMed']=='Yes':\n",
    "        data.loc[diag1_no_idx[i],'diag_1']=250"
   ]
  },
  {
   "cell_type": "code",
   "execution_count": 40,
   "metadata": {},
   "outputs": [
    {
     "data": {
      "text/html": [
       "<div>\n",
       "<style scoped>\n",
       "    .dataframe tbody tr th:only-of-type {\n",
       "        vertical-align: middle;\n",
       "    }\n",
       "\n",
       "    .dataframe tbody tr th {\n",
       "        vertical-align: top;\n",
       "    }\n",
       "\n",
       "    .dataframe thead th {\n",
       "        text-align: right;\n",
       "    }\n",
       "</style>\n",
       "<table border=\"1\" class=\"dataframe\">\n",
       "  <thead>\n",
       "    <tr style=\"text-align: right;\">\n",
       "      <th></th>\n",
       "      <th>race</th>\n",
       "      <th>gender</th>\n",
       "      <th>age</th>\n",
       "      <th>admission_type_id</th>\n",
       "      <th>discharge_disposition_id</th>\n",
       "      <th>admission_source_id</th>\n",
       "      <th>time_in_hospital</th>\n",
       "      <th>medical_specialty</th>\n",
       "      <th>num_lab_procedures</th>\n",
       "      <th>num_procedures</th>\n",
       "      <th>...</th>\n",
       "      <th>insulin</th>\n",
       "      <th>glyburide-metformin</th>\n",
       "      <th>glipizide-metformin</th>\n",
       "      <th>glimepiride-pioglitazone</th>\n",
       "      <th>metformin-rosiglitazone</th>\n",
       "      <th>metformin-pioglitazone</th>\n",
       "      <th>change</th>\n",
       "      <th>diabetesMed</th>\n",
       "      <th>readmitted</th>\n",
       "      <th>Target</th>\n",
       "    </tr>\n",
       "  </thead>\n",
       "  <tbody>\n",
       "    <tr>\n",
       "      <th>518</th>\n",
       "      <td>Caucasian</td>\n",
       "      <td>Male</td>\n",
       "      <td>[60-70)</td>\n",
       "      <td>6</td>\n",
       "      <td>25</td>\n",
       "      <td>1</td>\n",
       "      <td>4</td>\n",
       "      <td>Surgery-Neuro</td>\n",
       "      <td>48</td>\n",
       "      <td>1</td>\n",
       "      <td>...</td>\n",
       "      <td>No</td>\n",
       "      <td>No</td>\n",
       "      <td>No</td>\n",
       "      <td>No</td>\n",
       "      <td>No</td>\n",
       "      <td>No</td>\n",
       "      <td>No</td>\n",
       "      <td>No</td>\n",
       "      <td>NO</td>\n",
       "      <td>0</td>\n",
       "    </tr>\n",
       "    <tr>\n",
       "      <th>1006</th>\n",
       "      <td>Caucasian</td>\n",
       "      <td>Male</td>\n",
       "      <td>[80-90)</td>\n",
       "      <td>3</td>\n",
       "      <td>3</td>\n",
       "      <td>5</td>\n",
       "      <td>3</td>\n",
       "      <td>Urology</td>\n",
       "      <td>34</td>\n",
       "      <td>1</td>\n",
       "      <td>...</td>\n",
       "      <td>No</td>\n",
       "      <td>No</td>\n",
       "      <td>No</td>\n",
       "      <td>No</td>\n",
       "      <td>No</td>\n",
       "      <td>No</td>\n",
       "      <td>No</td>\n",
       "      <td>No</td>\n",
       "      <td>&gt;30</td>\n",
       "      <td>0</td>\n",
       "    </tr>\n",
       "    <tr>\n",
       "      <th>7845</th>\n",
       "      <td>AfricanAmerican</td>\n",
       "      <td>Male</td>\n",
       "      <td>[50-60)</td>\n",
       "      <td>3</td>\n",
       "      <td>5</td>\n",
       "      <td>1</td>\n",
       "      <td>1</td>\n",
       "      <td>Urology</td>\n",
       "      <td>20</td>\n",
       "      <td>1</td>\n",
       "      <td>...</td>\n",
       "      <td>No</td>\n",
       "      <td>No</td>\n",
       "      <td>No</td>\n",
       "      <td>No</td>\n",
       "      <td>No</td>\n",
       "      <td>No</td>\n",
       "      <td>No</td>\n",
       "      <td>No</td>\n",
       "      <td>NO</td>\n",
       "      <td>0</td>\n",
       "    </tr>\n",
       "    <tr>\n",
       "      <th>32514</th>\n",
       "      <td>Caucasian</td>\n",
       "      <td>Male</td>\n",
       "      <td>[50-60)</td>\n",
       "      <td>1</td>\n",
       "      <td>1</td>\n",
       "      <td>17</td>\n",
       "      <td>4</td>\n",
       "      <td>Hematology/Oncology</td>\n",
       "      <td>18</td>\n",
       "      <td>1</td>\n",
       "      <td>...</td>\n",
       "      <td>No</td>\n",
       "      <td>No</td>\n",
       "      <td>No</td>\n",
       "      <td>No</td>\n",
       "      <td>No</td>\n",
       "      <td>No</td>\n",
       "      <td>No</td>\n",
       "      <td>No</td>\n",
       "      <td>NO</td>\n",
       "      <td>0</td>\n",
       "    </tr>\n",
       "    <tr>\n",
       "      <th>66848</th>\n",
       "      <td>AfricanAmerican</td>\n",
       "      <td>Male</td>\n",
       "      <td>[70-80)</td>\n",
       "      <td>1</td>\n",
       "      <td>6</td>\n",
       "      <td>7</td>\n",
       "      <td>3</td>\n",
       "      <td>NaN</td>\n",
       "      <td>53</td>\n",
       "      <td>0</td>\n",
       "      <td>...</td>\n",
       "      <td>No</td>\n",
       "      <td>No</td>\n",
       "      <td>No</td>\n",
       "      <td>No</td>\n",
       "      <td>No</td>\n",
       "      <td>No</td>\n",
       "      <td>No</td>\n",
       "      <td>No</td>\n",
       "      <td>NO</td>\n",
       "      <td>0</td>\n",
       "    </tr>\n",
       "  </tbody>\n",
       "</table>\n",
       "<p>5 rows × 43 columns</p>\n",
       "</div>"
      ],
      "text/plain": [
       "                  race gender      age  admission_type_id  \\\n",
       "518          Caucasian   Male  [60-70)                  6   \n",
       "1006         Caucasian   Male  [80-90)                  3   \n",
       "7845   AfricanAmerican   Male  [50-60)                  3   \n",
       "32514        Caucasian   Male  [50-60)                  1   \n",
       "66848  AfricanAmerican   Male  [70-80)                  1   \n",
       "\n",
       "       discharge_disposition_id  admission_source_id  time_in_hospital  \\\n",
       "518                          25                    1                 4   \n",
       "1006                          3                    5                 3   \n",
       "7845                          5                    1                 1   \n",
       "32514                         1                   17                 4   \n",
       "66848                         6                    7                 3   \n",
       "\n",
       "         medical_specialty  num_lab_procedures  num_procedures  ...  insulin  \\\n",
       "518          Surgery-Neuro                  48               1  ...       No   \n",
       "1006               Urology                  34               1  ...       No   \n",
       "7845               Urology                  20               1  ...       No   \n",
       "32514  Hematology/Oncology                  18               1  ...       No   \n",
       "66848                  NaN                  53               0  ...       No   \n",
       "\n",
       "       glyburide-metformin  glipizide-metformin  glimepiride-pioglitazone  \\\n",
       "518                     No                   No                        No   \n",
       "1006                    No                   No                        No   \n",
       "7845                    No                   No                        No   \n",
       "32514                   No                   No                        No   \n",
       "66848                   No                   No                        No   \n",
       "\n",
       "      metformin-rosiglitazone  metformin-pioglitazone change diabetesMed  \\\n",
       "518                        No                      No     No          No   \n",
       "1006                       No                      No     No          No   \n",
       "7845                       No                      No     No          No   \n",
       "32514                      No                      No     No          No   \n",
       "66848                      No                      No     No          No   \n",
       "\n",
       "      readmitted Target  \n",
       "518           NO      0  \n",
       "1006         >30      0  \n",
       "7845          NO      0  \n",
       "32514         NO      0  \n",
       "66848         NO      0  \n",
       "\n",
       "[5 rows x 43 columns]"
      ]
     },
     "execution_count": 40,
     "metadata": {},
     "output_type": "execute_result"
    }
   ],
   "source": [
    "data[data.diag_1.isnull()]"
   ]
  },
  {
   "cell_type": "code",
   "execution_count": 41,
   "metadata": {},
   "outputs": [],
   "source": [
    "data.loc[(data.medical_specialty=='Urology'),'diag_1']=599\n",
    "data.loc[(data.medical_specialty=='Surgery-Neuro'),'diag_1']=349\n",
    "data.loc[(data.medical_specialty=='Hematology/Oncology'),'diag_1']=289"
   ]
  },
  {
   "cell_type": "code",
   "execution_count": 42,
   "metadata": {},
   "outputs": [],
   "source": [
    "data=data.loc[~data.diag_1.isnull()]"
   ]
  },
  {
   "cell_type": "code",
   "execution_count": 43,
   "metadata": {},
   "outputs": [],
   "source": [
    "data['New_Age']=data['age'].map(lambda x: x.lstrip('[').rstrip(')'))\n",
    "dummy_df_age = pd.DataFrame({'age': data['New_Age']})\n",
    "dummy_df_age['start'], dummy_df_age['end'] = zip(*data['New_Age'].map(lambda x: x.split('-')))\n",
    "def split_mean(x):\n",
    "    split_list = x.split('-')\n",
    "    mean = (float(split_list[0])+float(split_list[1]))/2\n",
    "    return mean\n",
    "dummy_df_age['age_mean'] = dummy_df_age['age'].apply(lambda x: split_mean(x))\n",
    "data['New_Age']=dummy_df_age['age_mean']"
   ]
  },
  {
   "cell_type": "code",
   "execution_count": 44,
   "metadata": {},
   "outputs": [],
   "source": [
    "Cat_Cols.append('New_Age')\n",
    "Cat_Cols.remove('age')"
   ]
  },
  {
   "cell_type": "code",
   "execution_count": 45,
   "metadata": {},
   "outputs": [
    {
     "data": {
      "text/plain": [
       "array([ 5., 15., 25., 35., 45., 55., 65., 75., 85., 95.])"
      ]
     },
     "execution_count": 45,
     "metadata": {},
     "output_type": "execute_result"
    }
   ],
   "source": [
    "data['New_Age'].unique()"
   ]
  },
  {
   "cell_type": "code",
   "execution_count": 46,
   "metadata": {},
   "outputs": [
    {
     "name": "stdout",
     "output_type": "stream",
     "text": [
      "47\n"
     ]
    }
   ],
   "source": [
    "data['last_yr_visit']=data['number_outpatient'] + data['number_emergency'] + data['number_inpatient']\n",
    "print(data.last_yr_visit.nunique())"
   ]
  },
  {
   "cell_type": "code",
   "execution_count": 47,
   "metadata": {},
   "outputs": [],
   "source": [
    "data['last_yr_visit']=np.where(data['last_yr_visit'].between(1,10),1,data['last_yr_visit'])\n",
    "data['last_yr_visit']=np.where(data['last_yr_visit'].between(11,20),2,data['last_yr_visit'])\n",
    "data['last_yr_visit']=np.where(data['last_yr_visit'].between(21,30),3,data['last_yr_visit'])\n",
    "data['last_yr_visit']=np.where(data['last_yr_visit'].between(31,80),4,data['last_yr_visit'])"
   ]
  },
  {
   "cell_type": "code",
   "execution_count": 48,
   "metadata": {},
   "outputs": [
    {
     "data": {
      "text/plain": [
       "last_yr_visit\n",
       "0    54665\n",
       "1    43691\n",
       "2      870\n",
       "3       72\n",
       "4       31\n",
       "dtype: int64"
      ]
     },
     "execution_count": 48,
     "metadata": {},
     "output_type": "execute_result"
    }
   ],
   "source": [
    "data.groupby('last_yr_visit').size()"
   ]
  },
  {
   "cell_type": "code",
   "execution_count": 49,
   "metadata": {},
   "outputs": [
    {
     "name": "stdout",
     "output_type": "stream",
     "text": [
      "Target             0     1\n",
      "last_yr_visit             \n",
      "0              50115  4550\n",
      "1              37234  6457\n",
      "2                588   282\n",
      "3                 54    18\n",
      "4                 25     6\n",
      "Target            0     1\n",
      "last_yr_visit            \n",
      "0              0.92  0.08\n",
      "1              0.85  0.15\n",
      "2              0.68  0.32\n",
      "3              0.75  0.25\n",
      "4              0.81  0.19\n"
     ]
    }
   ],
   "source": [
    "print(pd.crosstab(data['last_yr_visit'],data['Target']))\n",
    "print(pd.crosstab(data['last_yr_visit'],data['Target'],normalize='index'))"
   ]
  },
  {
   "cell_type": "code",
   "execution_count": 50,
   "metadata": {},
   "outputs": [
    {
     "data": {
      "image/png": "[encoded data removed]",
      "text/plain": [
       "<Figure size 432x288 with 1 Axes>"
      ]
     },
     "metadata": {
      "needs_background": "light"
     },
     "output_type": "display_data"
    }
   ],
   "source": [
    "ax=sb.countplot(y=data['last_yr_visit'],hue=data['Target'])\n",
    "total=len(data['last_yr_visit'])\n",
    "for p in ax.patches:\n",
    "        percentage = '{:.1f}%'.format(100 * p.get_width()/total)\n",
    "        x = p.get_x() + p.get_width() + 0.02\n",
    "        y = p.get_y() + p.get_height()/2\n",
    "        ax.annotate(percentage, (x, y))"
   ]
  },
  {
   "cell_type": "code",
   "execution_count": 51,
   "metadata": {},
   "outputs": [
    {
     "data": {
      "text/plain": [
       "Text(0.5, 1.0, 'Last Year Visit VS. Readmission')"
      ]
     },
     "execution_count": 51,
     "metadata": {},
     "output_type": "execute_result"
    },
    {
     "data": {
      "image/png": "[encoded data removed]",
      "text/plain": [
       "<Figure size 432x288 with 1 Axes>"
      ]
     },
     "metadata": {
      "needs_background": "light"
     },
     "output_type": "display_data"
    }
   ],
   "source": [
    "ax=sb.kdeplot(data.loc[(data['Target'] == 0),'last_yr_visit'] , color='b',shade=True,label='Not Readmitted')\n",
    "ax=sb.kdeplot(data.loc[(data['Target'] == 1),'last_yr_visit'] , color='r',shade=True, label='Readmitted')\n",
    "ax.set(xlabel='Lat Year Visit', ylabel='Frequency')\n",
    "plt.title('Last Year Visit VS. Readmission')"
   ]
  },
  {
   "cell_type": "code",
   "execution_count": 52,
   "metadata": {},
   "outputs": [],
   "source": [
    "tr_med_cols=[]\n",
    "medication=['metformin', 'repaglinide', 'nateglinide', 'chlorpropamide', 'glimepiride', 'acetohexamide', 'glipizide', 'glyburide', 'tolbutamide', 'pioglitazone', 'rosiglitazone', 'acarbose', 'miglitol', 'troglitazone', 'tolazamide', 'insulin','glyburide-metformin', 'glipizide-metformin', 'glimepiride-pioglitazone', 'metformin-rosiglitazone', 'metformin-pioglitazone']\n",
    "for i in medication:\n",
    "    name='tr_'+i\n",
    "    #Cat_Cols.append(name)\n",
    "    tr_med_cols.append(name)\n",
    "    data[name]=data[i].apply(lambda x:0 if (x=='No' or x=='Steady') else 1)   "
   ]
  },
  {
   "cell_type": "code",
   "execution_count": 53,
   "metadata": {},
   "outputs": [],
   "source": [
    "Cat_Cols=[ele for ele in Cat_Cols if ele not in medication]"
   ]
  },
  {
   "cell_type": "code",
   "execution_count": 54,
   "metadata": {},
   "outputs": [
    {
     "data": {
      "text/plain": [
       "['race',\n",
       " 'gender',\n",
       " 'max_glu_serum',\n",
       " 'A1Cresult',\n",
       " 'change',\n",
       " 'diabetesMed',\n",
       " 'medical_specialty',\n",
       " 'diag_1',\n",
       " 'New_Age']"
      ]
     },
     "execution_count": 54,
     "metadata": {},
     "output_type": "execute_result"
    }
   ],
   "source": [
    "Cat_Cols"
   ]
  },
  {
   "cell_type": "code",
   "execution_count": 55,
   "metadata": {},
   "outputs": [
    {
     "data": {
      "text/html": [
       "<div>\n",
       "<style scoped>\n",
       "    .dataframe tbody tr th:only-of-type {\n",
       "        vertical-align: middle;\n",
       "    }\n",
       "\n",
       "    .dataframe tbody tr th {\n",
       "        vertical-align: top;\n",
       "    }\n",
       "\n",
       "    .dataframe thead th {\n",
       "        text-align: right;\n",
       "    }\n",
       "</style>\n",
       "<table border=\"1\" class=\"dataframe\">\n",
       "  <thead>\n",
       "    <tr style=\"text-align: right;\">\n",
       "      <th></th>\n",
       "      <th>race</th>\n",
       "      <th>gender</th>\n",
       "      <th>age</th>\n",
       "      <th>admission_type_id</th>\n",
       "      <th>discharge_disposition_id</th>\n",
       "      <th>admission_source_id</th>\n",
       "      <th>time_in_hospital</th>\n",
       "      <th>medical_specialty</th>\n",
       "      <th>num_lab_procedures</th>\n",
       "      <th>num_procedures</th>\n",
       "      <th>...</th>\n",
       "      <th>tr_acarbose</th>\n",
       "      <th>tr_miglitol</th>\n",
       "      <th>tr_troglitazone</th>\n",
       "      <th>tr_tolazamide</th>\n",
       "      <th>tr_insulin</th>\n",
       "      <th>tr_glyburide-metformin</th>\n",
       "      <th>tr_glipizide-metformin</th>\n",
       "      <th>tr_glimepiride-pioglitazone</th>\n",
       "      <th>tr_metformin-rosiglitazone</th>\n",
       "      <th>tr_metformin-pioglitazone</th>\n",
       "    </tr>\n",
       "  </thead>\n",
       "  <tbody>\n",
       "    <tr>\n",
       "      <th>0</th>\n",
       "      <td>Caucasian</td>\n",
       "      <td>Female</td>\n",
       "      <td>[0-10)</td>\n",
       "      <td>6</td>\n",
       "      <td>25</td>\n",
       "      <td>1</td>\n",
       "      <td>1</td>\n",
       "      <td>Pediatrics-Endocrinology</td>\n",
       "      <td>41</td>\n",
       "      <td>0</td>\n",
       "      <td>...</td>\n",
       "      <td>0</td>\n",
       "      <td>0</td>\n",
       "      <td>0</td>\n",
       "      <td>0</td>\n",
       "      <td>0</td>\n",
       "      <td>0</td>\n",
       "      <td>0</td>\n",
       "      <td>0</td>\n",
       "      <td>0</td>\n",
       "      <td>0</td>\n",
       "    </tr>\n",
       "    <tr>\n",
       "      <th>1</th>\n",
       "      <td>Caucasian</td>\n",
       "      <td>Female</td>\n",
       "      <td>[10-20)</td>\n",
       "      <td>1</td>\n",
       "      <td>1</td>\n",
       "      <td>7</td>\n",
       "      <td>3</td>\n",
       "      <td>NaN</td>\n",
       "      <td>59</td>\n",
       "      <td>0</td>\n",
       "      <td>...</td>\n",
       "      <td>0</td>\n",
       "      <td>0</td>\n",
       "      <td>0</td>\n",
       "      <td>0</td>\n",
       "      <td>1</td>\n",
       "      <td>0</td>\n",
       "      <td>0</td>\n",
       "      <td>0</td>\n",
       "      <td>0</td>\n",
       "      <td>0</td>\n",
       "    </tr>\n",
       "    <tr>\n",
       "      <th>2</th>\n",
       "      <td>AfricanAmerican</td>\n",
       "      <td>Female</td>\n",
       "      <td>[20-30)</td>\n",
       "      <td>1</td>\n",
       "      <td>1</td>\n",
       "      <td>7</td>\n",
       "      <td>2</td>\n",
       "      <td>NaN</td>\n",
       "      <td>11</td>\n",
       "      <td>5</td>\n",
       "      <td>...</td>\n",
       "      <td>0</td>\n",
       "      <td>0</td>\n",
       "      <td>0</td>\n",
       "      <td>0</td>\n",
       "      <td>0</td>\n",
       "      <td>0</td>\n",
       "      <td>0</td>\n",
       "      <td>0</td>\n",
       "      <td>0</td>\n",
       "      <td>0</td>\n",
       "    </tr>\n",
       "    <tr>\n",
       "      <th>3</th>\n",
       "      <td>Caucasian</td>\n",
       "      <td>Male</td>\n",
       "      <td>[30-40)</td>\n",
       "      <td>1</td>\n",
       "      <td>1</td>\n",
       "      <td>7</td>\n",
       "      <td>2</td>\n",
       "      <td>NaN</td>\n",
       "      <td>44</td>\n",
       "      <td>1</td>\n",
       "      <td>...</td>\n",
       "      <td>0</td>\n",
       "      <td>0</td>\n",
       "      <td>0</td>\n",
       "      <td>0</td>\n",
       "      <td>1</td>\n",
       "      <td>0</td>\n",
       "      <td>0</td>\n",
       "      <td>0</td>\n",
       "      <td>0</td>\n",
       "      <td>0</td>\n",
       "    </tr>\n",
       "    <tr>\n",
       "      <th>4</th>\n",
       "      <td>Caucasian</td>\n",
       "      <td>Male</td>\n",
       "      <td>[40-50)</td>\n",
       "      <td>1</td>\n",
       "      <td>1</td>\n",
       "      <td>7</td>\n",
       "      <td>1</td>\n",
       "      <td>NaN</td>\n",
       "      <td>51</td>\n",
       "      <td>0</td>\n",
       "      <td>...</td>\n",
       "      <td>0</td>\n",
       "      <td>0</td>\n",
       "      <td>0</td>\n",
       "      <td>0</td>\n",
       "      <td>0</td>\n",
       "      <td>0</td>\n",
       "      <td>0</td>\n",
       "      <td>0</td>\n",
       "      <td>0</td>\n",
       "      <td>0</td>\n",
       "    </tr>\n",
       "  </tbody>\n",
       "</table>\n",
       "<p>5 rows × 66 columns</p>\n",
       "</div>"
      ],
      "text/plain": [
       "              race  gender      age  admission_type_id  \\\n",
       "0        Caucasian  Female   [0-10)                  6   \n",
       "1        Caucasian  Female  [10-20)                  1   \n",
       "2  AfricanAmerican  Female  [20-30)                  1   \n",
       "3        Caucasian    Male  [30-40)                  1   \n",
       "4        Caucasian    Male  [40-50)                  1   \n",
       "\n",
       "   discharge_disposition_id  admission_source_id  time_in_hospital  \\\n",
       "0                        25                    1                 1   \n",
       "1                         1                    7                 3   \n",
       "2                         1                    7                 2   \n",
       "3                         1                    7                 2   \n",
       "4                         1                    7                 1   \n",
       "\n",
       "          medical_specialty  num_lab_procedures  num_procedures  ...  \\\n",
       "0  Pediatrics-Endocrinology                  41               0  ...   \n",
       "1                       NaN                  59               0  ...   \n",
       "2                       NaN                  11               5  ...   \n",
       "3                       NaN                  44               1  ...   \n",
       "4                       NaN                  51               0  ...   \n",
       "\n",
       "   tr_acarbose  tr_miglitol  tr_troglitazone  tr_tolazamide tr_insulin  \\\n",
       "0            0            0                0              0          0   \n",
       "1            0            0                0              0          1   \n",
       "2            0            0                0              0          0   \n",
       "3            0            0                0              0          1   \n",
       "4            0            0                0              0          0   \n",
       "\n",
       "   tr_glyburide-metformin tr_glipizide-metformin tr_glimepiride-pioglitazone  \\\n",
       "0                       0                      0                           0   \n",
       "1                       0                      0                           0   \n",
       "2                       0                      0                           0   \n",
       "3                       0                      0                           0   \n",
       "4                       0                      0                           0   \n",
       "\n",
       "  tr_metformin-rosiglitazone tr_metformin-pioglitazone  \n",
       "0                          0                         0  \n",
       "1                          0                         0  \n",
       "2                          0                         0  \n",
       "3                          0                         0  \n",
       "4                          0                         0  \n",
       "\n",
       "[5 rows x 66 columns]"
      ]
     },
     "execution_count": 55,
     "metadata": {},
     "output_type": "execute_result"
    }
   ],
   "source": [
    "data.head()"
   ]
  },
  {
   "cell_type": "code",
   "execution_count": 56,
   "metadata": {},
   "outputs": [],
   "source": [
    "data_idx=data.index"
   ]
  },
  {
   "cell_type": "code",
   "execution_count": 57,
   "metadata": {},
   "outputs": [
    {
     "data": {
      "text/plain": [
       "Int64Index([     0,      1,      2,      3,      4,      5,      6,      7,\n",
       "                 8,      9,\n",
       "            ...\n",
       "            101756, 101757, 101758, 101759, 101760, 101761, 101762, 101763,\n",
       "            101764, 101765],\n",
       "           dtype='int64', length=99329)"
      ]
     },
     "execution_count": 57,
     "metadata": {},
     "output_type": "execute_result"
    }
   ],
   "source": [
    "data_idx"
   ]
  },
  {
   "cell_type": "code",
   "execution_count": 58,
   "metadata": {},
   "outputs": [],
   "source": [
    "data['med_status']=0\n",
    "for i in tr_med_cols:\n",
    "    data['med_status']=data['med_status']+data[i]"
   ]
  },
  {
   "cell_type": "code",
   "execution_count": 59,
   "metadata": {},
   "outputs": [
    {
     "name": "stdout",
     "output_type": "stream",
     "text": [
      "Target          0     1\n",
      "med_status             \n",
      "0           64606  7704\n",
      "1           22174  3434\n",
      "2            1140   159\n",
      "3              91    16\n",
      "4               5     0\n"
     ]
    }
   ],
   "source": [
    "print(pd.crosstab(data['med_status'],data['Target']))\n",
    "#print(pd.crosstab(data['med_status'],data['Target'],normalize='index'))"
   ]
  },
  {
   "cell_type": "code",
   "execution_count": 60,
   "metadata": {},
   "outputs": [
    {
     "name": "stdout",
     "output_type": "stream",
     "text": [
      "0    72310\n",
      "1    25608\n",
      "2     1299\n",
      "3      107\n",
      "4        5\n",
      "Name: med_status, dtype: int64\n",
      "Target         0     1\n",
      "med_status            \n",
      "0           0.89  0.11\n",
      "1           0.87  0.13\n",
      "2           0.88  0.12\n",
      "3           0.85  0.15\n",
      "4           1.00  0.00\n",
      "None\n"
     ]
    }
   ],
   "source": [
    "print(data['med_status'].value_counts())\n",
    "print(print(pd.crosstab(data['med_status'],data['Target'],normalize='index')))"
   ]
  },
  {
   "cell_type": "code",
   "execution_count": 61,
   "metadata": {},
   "outputs": [
    {
     "data": {
      "text/html": [
       "<div>\n",
       "<style scoped>\n",
       "    .dataframe tbody tr th:only-of-type {\n",
       "        vertical-align: middle;\n",
       "    }\n",
       "\n",
       "    .dataframe tbody tr th {\n",
       "        vertical-align: top;\n",
       "    }\n",
       "\n",
       "    .dataframe thead th {\n",
       "        text-align: right;\n",
       "    }\n",
       "</style>\n",
       "<table border=\"1\" class=\"dataframe\">\n",
       "  <thead>\n",
       "    <tr style=\"text-align: right;\">\n",
       "      <th></th>\n",
       "      <th>med_status</th>\n",
       "      <th>Target</th>\n",
       "      <th>change</th>\n",
       "      <th>diabetesMed</th>\n",
       "      <th>diag_1</th>\n",
       "      <th>medical_specialty</th>\n",
       "    </tr>\n",
       "  </thead>\n",
       "  <tbody>\n",
       "    <tr>\n",
       "      <th>0</th>\n",
       "      <td>0</td>\n",
       "      <td>0</td>\n",
       "      <td>No</td>\n",
       "      <td>No</td>\n",
       "      <td>250.83</td>\n",
       "      <td>Pediatrics-Endocrinology</td>\n",
       "    </tr>\n",
       "    <tr>\n",
       "      <th>1</th>\n",
       "      <td>1</td>\n",
       "      <td>0</td>\n",
       "      <td>Ch</td>\n",
       "      <td>Yes</td>\n",
       "      <td>276</td>\n",
       "      <td>NaN</td>\n",
       "    </tr>\n",
       "    <tr>\n",
       "      <th>2</th>\n",
       "      <td>0</td>\n",
       "      <td>0</td>\n",
       "      <td>No</td>\n",
       "      <td>Yes</td>\n",
       "      <td>648</td>\n",
       "      <td>NaN</td>\n",
       "    </tr>\n",
       "    <tr>\n",
       "      <th>3</th>\n",
       "      <td>1</td>\n",
       "      <td>0</td>\n",
       "      <td>Ch</td>\n",
       "      <td>Yes</td>\n",
       "      <td>8</td>\n",
       "      <td>NaN</td>\n",
       "    </tr>\n",
       "    <tr>\n",
       "      <th>4</th>\n",
       "      <td>0</td>\n",
       "      <td>0</td>\n",
       "      <td>Ch</td>\n",
       "      <td>Yes</td>\n",
       "      <td>197</td>\n",
       "      <td>NaN</td>\n",
       "    </tr>\n",
       "    <tr>\n",
       "      <th>5</th>\n",
       "      <td>0</td>\n",
       "      <td>0</td>\n",
       "      <td>No</td>\n",
       "      <td>Yes</td>\n",
       "      <td>414</td>\n",
       "      <td>NaN</td>\n",
       "    </tr>\n",
       "  </tbody>\n",
       "</table>\n",
       "</div>"
      ],
      "text/plain": [
       "   med_status  Target change diabetesMed  diag_1         medical_specialty\n",
       "0           0       0     No          No  250.83  Pediatrics-Endocrinology\n",
       "1           1       0     Ch         Yes     276                       NaN\n",
       "2           0       0     No         Yes     648                       NaN\n",
       "3           1       0     Ch         Yes       8                       NaN\n",
       "4           0       0     Ch         Yes     197                       NaN\n",
       "5           0       0     No         Yes     414                       NaN"
      ]
     },
     "execution_count": 61,
     "metadata": {},
     "output_type": "execute_result"
    }
   ],
   "source": [
    "data.loc[0:5,['med_status','Target','change','diabetesMed','diag_1','medical_specialty']]"
   ]
  },
  {
   "cell_type": "code",
   "execution_count": 62,
   "metadata": {},
   "outputs": [],
   "source": [
    "t=data.index[(data['med_status']==0) & (data['Target']==1)]\n",
    "t1=data.loc[t,['A1Cresult','max_glu_serum','change','diabetesMed','diag_1','medical_specialty','Target']]"
   ]
  },
  {
   "cell_type": "code",
   "execution_count": 63,
   "metadata": {},
   "outputs": [
    {
     "data": {
      "text/plain": [
       "7704"
      ]
     },
     "execution_count": 63,
     "metadata": {},
     "output_type": "execute_result"
    }
   ],
   "source": [
    "len(t1)"
   ]
  },
  {
   "cell_type": "code",
   "execution_count": 64,
   "metadata": {},
   "outputs": [
    {
     "data": {
      "text/plain": [
       "max_glu_serum\n",
       ">200     121\n",
       ">300      92\n",
       "None    7267\n",
       "Norm     224\n",
       "dtype: int64"
      ]
     },
     "execution_count": 64,
     "metadata": {},
     "output_type": "execute_result"
    }
   ],
   "source": [
    "t1.groupby('max_glu_serum').size()"
   ]
  },
  {
   "cell_type": "code",
   "execution_count": 65,
   "metadata": {},
   "outputs": [
    {
     "data": {
      "text/plain": [
       "<matplotlib.axes._subplots.AxesSubplot at 0x1b70d39acf8>"
      ]
     },
     "execution_count": 65,
     "metadata": {},
     "output_type": "execute_result"
    },
    {
     "data": {
      "image/png": "[encoded data removed]",
      "text/plain": [
       "<Figure size 432x288 with 1 Axes>"
      ]
     },
     "metadata": {
      "needs_background": "light"
     },
     "output_type": "display_data"
    }
   ],
   "source": [
    "sb.countplot(y=data['med_status'],hue=data['Target'])"
   ]
  },
  {
   "cell_type": "code",
   "execution_count": 66,
   "metadata": {},
   "outputs": [],
   "source": [
    "data['change']=data['change'].apply(lambda x:1 if (x=='Ch') else 0)    \n",
    "data['diabetesMed']=data['diabetesMed'].apply(lambda x:1 if (x=='Yes')else 0)\n",
    "data['gender']=data['gender'].apply(lambda x:1 if (x=='Male') else 0)"
   ]
  },
  {
   "cell_type": "code",
   "execution_count": 67,
   "metadata": {},
   "outputs": [],
   "source": [
    "data.loc[data['diag_1'].str.contains('V',na=False),['diag_1']]=0\n",
    "data.loc[data['diag_1'].str.contains('E',na=False),['diag_1']]=0"
   ]
  },
  {
   "cell_type": "raw",
   "metadata": {},
   "source": []
  },
  {
   "cell_type": "code",
   "execution_count": 68,
   "metadata": {},
   "outputs": [],
   "source": [
    "data['diag_1']=data['diag_1'].astype(float)"
   ]
  },
  {
   "cell_type": "code",
   "execution_count": 69,
   "metadata": {},
   "outputs": [],
   "source": [
    "for idx, rec in data.iterrows():\n",
    "    if (rec['diag_1'] >= 390 and rec['diag_1'] < 460) or (np.floor(rec['diag_1']) == 785):\n",
    "        data.loc[idx, 'diag_1'] = 1\n",
    "    elif (rec['diag_1'] >= 460 and rec['diag_1'] < 520) or (np.floor(rec['diag_1']) == 786):\n",
    "        data.loc[idx, 'diag_1'] = 2\n",
    "    elif (rec['diag_1'] >= 520 and rec['diag_1'] < 580) or (np.floor(rec['diag_1']) == 787):\n",
    "        data.loc[idx, 'diag_1'] = 3\n",
    "    elif (rec['diag_1'] >= 580 and rec['diag_1'] < 630) or (np.floor(rec['diag_1']) == 788):\n",
    "        data.loc[idx, 'diag_1'] = 4\n",
    "    elif (np.floor(rec['diag_1']) == 250):\n",
    "        data.loc[idx, 'diag_1'] = 5\n",
    "    else:\n",
    "        data.loc[idx, 'diag_1'] = 0"
   ]
  },
  {
   "cell_type": "code",
   "execution_count": 70,
   "metadata": {},
   "outputs": [
    {
     "data": {
      "text/html": [
       "<div>\n",
       "<style scoped>\n",
       "    .dataframe tbody tr th:only-of-type {\n",
       "        vertical-align: middle;\n",
       "    }\n",
       "\n",
       "    .dataframe tbody tr th {\n",
       "        vertical-align: top;\n",
       "    }\n",
       "\n",
       "    .dataframe thead th {\n",
       "        text-align: right;\n",
       "    }\n",
       "</style>\n",
       "<table border=\"1\" class=\"dataframe\">\n",
       "  <thead>\n",
       "    <tr style=\"text-align: right;\">\n",
       "      <th>Target</th>\n",
       "      <th>0</th>\n",
       "      <th>1</th>\n",
       "    </tr>\n",
       "    <tr>\n",
       "      <th>A1Cresult</th>\n",
       "      <th></th>\n",
       "      <th></th>\n",
       "    </tr>\n",
       "  </thead>\n",
       "  <tbody>\n",
       "    <tr>\n",
       "      <th>&gt;7</th>\n",
       "      <td>3390</td>\n",
       "      <td>383</td>\n",
       "    </tr>\n",
       "    <tr>\n",
       "      <th>&gt;8</th>\n",
       "      <td>7328</td>\n",
       "      <td>809</td>\n",
       "    </tr>\n",
       "    <tr>\n",
       "      <th>None</th>\n",
       "      <td>72857</td>\n",
       "      <td>9640</td>\n",
       "    </tr>\n",
       "    <tr>\n",
       "      <th>Norm</th>\n",
       "      <td>4441</td>\n",
       "      <td>481</td>\n",
       "    </tr>\n",
       "  </tbody>\n",
       "</table>\n",
       "</div>"
      ],
      "text/plain": [
       "Target         0     1\n",
       "A1Cresult             \n",
       ">7          3390   383\n",
       ">8          7328   809\n",
       "None       72857  9640\n",
       "Norm        4441   481"
      ]
     },
     "execution_count": 70,
     "metadata": {},
     "output_type": "execute_result"
    }
   ],
   "source": [
    "pd.crosstab(data['A1Cresult'],data['Target'])"
   ]
  },
  {
   "cell_type": "code",
   "execution_count": 71,
   "metadata": {},
   "outputs": [
    {
     "name": "stdout",
     "output_type": "stream",
     "text": [
      "83.05429431485265\n",
      "82497\n",
      "9640\n",
      "11.685273403881354\n"
     ]
    }
   ],
   "source": [
    "print(len(data[data['A1Cresult']=='None'].index)/len(data)*100)\n",
    "print(len(data[data['A1Cresult']=='None'].index))\n",
    "print(len((data[data['A1Cresult']=='None'].index) & (data[data['Target']==1].index)))\n",
    "print(len((data[data['A1Cresult']=='None'].index) & (data[data['Target']==1].index))/len(data[data['A1Cresult']=='None'].index)*100)"
   ]
  },
  {
   "cell_type": "code",
   "execution_count": 72,
   "metadata": {},
   "outputs": [
    {
     "data": {
      "text/html": [
       "<div>\n",
       "<style scoped>\n",
       "    .dataframe tbody tr th:only-of-type {\n",
       "        vertical-align: middle;\n",
       "    }\n",
       "\n",
       "    .dataframe tbody tr th {\n",
       "        vertical-align: top;\n",
       "    }\n",
       "\n",
       "    .dataframe thead th {\n",
       "        text-align: right;\n",
       "    }\n",
       "</style>\n",
       "<table border=\"1\" class=\"dataframe\">\n",
       "  <thead>\n",
       "    <tr style=\"text-align: right;\">\n",
       "      <th>Target</th>\n",
       "      <th>0</th>\n",
       "      <th>1</th>\n",
       "    </tr>\n",
       "    <tr>\n",
       "      <th>max_glu_serum</th>\n",
       "      <th></th>\n",
       "      <th></th>\n",
       "    </tr>\n",
       "  </thead>\n",
       "  <tbody>\n",
       "    <tr>\n",
       "      <th>&gt;200</th>\n",
       "      <td>1235</td>\n",
       "      <td>184</td>\n",
       "    </tr>\n",
       "    <tr>\n",
       "      <th>&gt;300</th>\n",
       "      <td>1009</td>\n",
       "      <td>179</td>\n",
       "    </tr>\n",
       "    <tr>\n",
       "      <th>None</th>\n",
       "      <td>83521</td>\n",
       "      <td>10656</td>\n",
       "    </tr>\n",
       "    <tr>\n",
       "      <th>Norm</th>\n",
       "      <td>2251</td>\n",
       "      <td>294</td>\n",
       "    </tr>\n",
       "  </tbody>\n",
       "</table>\n",
       "</div>"
      ],
      "text/plain": [
       "Target             0      1\n",
       "max_glu_serum              \n",
       ">200            1235    184\n",
       ">300            1009    179\n",
       "None           83521  10656\n",
       "Norm            2251    294"
      ]
     },
     "execution_count": 72,
     "metadata": {},
     "output_type": "execute_result"
    }
   ],
   "source": [
    "pd.crosstab(data['max_glu_serum'],data['Target'])"
   ]
  },
  {
   "cell_type": "code",
   "execution_count": 73,
   "metadata": {},
   "outputs": [
    {
     "name": "stdout",
     "output_type": "stream",
     "text": [
      "94.81319654884274\n",
      "94177\n",
      "10656\n",
      "11.314864563534622\n"
     ]
    }
   ],
   "source": [
    "print(len(data[data['max_glu_serum']=='None'].index)/len(data)*100)\n",
    "print(len(data[data['max_glu_serum']=='None'].index))\n",
    "print(len((data[data['max_glu_serum']=='None'].index) & (data[data['Target']==1].index)))\n",
    "print(len((data[data['max_glu_serum']=='None'].index) & (data[data['Target']==1].index))/len(data[data['max_glu_serum']=='None'].index)*100)"
   ]
  },
  {
   "cell_type": "code",
   "execution_count": 74,
   "metadata": {},
   "outputs": [],
   "source": [
    "NTest_A1C_Glu_Adm_idx=data.index[(data['max_glu_serum']=='None') & (data['A1Cresult']=='None') & (data['Target']==1)]"
   ]
  },
  {
   "cell_type": "code",
   "execution_count": 75,
   "metadata": {},
   "outputs": [],
   "source": [
    "NTest_A1C_Glu_Adm_Rec=data.loc[NTest_A1C_Glu_Adm_idx,['change','diabetesMed','diag_1','med_status']]"
   ]
  },
  {
   "cell_type": "code",
   "execution_count": 76,
   "metadata": {},
   "outputs": [
    {
     "data": {
      "text/plain": [
       "change\n",
       "0    4712\n",
       "1    4307\n",
       "dtype: int64"
      ]
     },
     "execution_count": 76,
     "metadata": {},
     "output_type": "execute_result"
    }
   ],
   "source": [
    "NTest_A1C_Glu_Adm_Rec.groupby('change').size()"
   ]
  },
  {
   "cell_type": "code",
   "execution_count": 77,
   "metadata": {},
   "outputs": [
    {
     "data": {
      "text/plain": [
       "diabetesMed\n",
       "0    1855\n",
       "1    7164\n",
       "dtype: int64"
      ]
     },
     "execution_count": 77,
     "metadata": {},
     "output_type": "execute_result"
    }
   ],
   "source": [
    "NTest_A1C_Glu_Adm_Rec.groupby('diabetesMed').size()"
   ]
  },
  {
   "cell_type": "code",
   "execution_count": 78,
   "metadata": {},
   "outputs": [
    {
     "name": "stdout",
     "output_type": "stream",
     "text": [
      "Not Tested and readmitted, change prescribed in diabetes medication = 47.75 %\n",
      "Not Tested and readmitted, diabetes medication prescribed = 79.43 %\n"
     ]
    }
   ],
   "source": [
    "print('Not Tested and readmitted, change prescribed in diabetes medication = %.2f %%'%(len(NTest_A1C_Glu_Adm_Rec[(NTest_A1C_Glu_Adm_Rec['change']==1)])/len(NTest_A1C_Glu_Adm_Rec)*100))\n",
    "print('Not Tested and readmitted, diabetes medication prescribed = %.2f %%'%(len(NTest_A1C_Glu_Adm_Rec[(NTest_A1C_Glu_Adm_Rec['diabetesMed']==1)])/len(NTest_A1C_Glu_Adm_Rec)*100))"
   ]
  },
  {
   "cell_type": "code",
   "execution_count": 79,
   "metadata": {},
   "outputs": [],
   "source": [
    "NTest_A1C_Glu_NAdm_idx=data.index[(data['max_glu_serum']=='None') & (data['A1Cresult']=='None') & (data['Target']==0)]"
   ]
  },
  {
   "cell_type": "code",
   "execution_count": 80,
   "metadata": {},
   "outputs": [],
   "source": [
    "NTest_A1C_Glu_NAdm_Rec=data.loc[NTest_A1C_Glu_NAdm_idx,['change','diabetesMed','med_status','diag_1','Target']]"
   ]
  },
  {
   "cell_type": "code",
   "execution_count": 81,
   "metadata": {},
   "outputs": [
    {
     "data": {
      "text/plain": [
       "change\n",
       "0    38411\n",
       "1    30209\n",
       "dtype: int64"
      ]
     },
     "execution_count": 81,
     "metadata": {},
     "output_type": "execute_result"
    }
   ],
   "source": [
    "NTest_A1C_Glu_NAdm_Rec.groupby('change').size()"
   ]
  },
  {
   "cell_type": "code",
   "execution_count": 82,
   "metadata": {},
   "outputs": [
    {
     "data": {
      "text/plain": [
       "diabetesMed\n",
       "0    16781\n",
       "1    51839\n",
       "dtype: int64"
      ]
     },
     "execution_count": 82,
     "metadata": {},
     "output_type": "execute_result"
    }
   ],
   "source": [
    "NTest_A1C_Glu_NAdm_Rec.groupby('diabetesMed').size()"
   ]
  },
  {
   "cell_type": "code",
   "execution_count": 83,
   "metadata": {},
   "outputs": [
    {
     "data": {
      "text/plain": [
       "med_status\n",
       "0    52063\n",
       "1    15811\n",
       "2      702\n",
       "3       43\n",
       "4        1\n",
       "dtype: int64"
      ]
     },
     "execution_count": 83,
     "metadata": {},
     "output_type": "execute_result"
    }
   ],
   "source": [
    "NTest_A1C_Glu_NAdm_Rec.groupby('med_status').size()"
   ]
  },
  {
   "cell_type": "code",
   "execution_count": 84,
   "metadata": {},
   "outputs": [
    {
     "name": "stdout",
     "output_type": "stream",
     "text": [
      "Not Tested and not readmitted, change prescribed in diabetes medication = 44.02 %\n",
      "Not Tested and not readmitted, diabetes medication prescribed = 75.55 %\n",
      "Not Tested and not readmitted, No medicines changed = 75.87 %\n",
      "Not Tested and not readmitted, One medicine changed = 23.04 %\n"
     ]
    }
   ],
   "source": [
    "print('Not Tested and not readmitted, change prescribed in diabetes medication = %.2f %%'%(len(NTest_A1C_Glu_NAdm_Rec[(NTest_A1C_Glu_NAdm_Rec['change']==1)])/len(NTest_A1C_Glu_NAdm_Rec)*100))\n",
    "print('Not Tested and not readmitted, diabetes medication prescribed = %.2f %%'%(len(NTest_A1C_Glu_NAdm_Rec[(NTest_A1C_Glu_NAdm_Rec['diabetesMed']==1)])/len(NTest_A1C_Glu_NAdm_Rec)*100))\n",
    "print('Not Tested and not readmitted, No medicines changed = %.2f %%'%(len(NTest_A1C_Glu_NAdm_Rec[(NTest_A1C_Glu_NAdm_Rec['med_status']==0)])/len(NTest_A1C_Glu_NAdm_Rec)*100))\n",
    "print('Not Tested and not readmitted, One medicine changed = %.2f %%'%(len(NTest_A1C_Glu_NAdm_Rec[(NTest_A1C_Glu_NAdm_Rec['med_status']==1)])/len(NTest_A1C_Glu_NAdm_Rec)*100))"
   ]
  },
  {
   "cell_type": "code",
   "execution_count": 85,
   "metadata": {},
   "outputs": [],
   "source": [
    "col_names=['idx','medication']\n",
    "df_med_list=pd.DataFrame(columns=col_names)"
   ]
  },
  {
   "cell_type": "code",
   "execution_count": 86,
   "metadata": {},
   "outputs": [],
   "source": [
    "med_list=[]\n",
    "med_count=[0]*len(medication)\n",
    "for idx in range(len(NTest_A1C_Glu_NAdm_idx)):\n",
    "    med=[]\n",
    "    for j,i in enumerate(medication):\n",
    "        if data.loc[NTest_A1C_Glu_NAdm_idx[idx],i]=='Steady':\n",
    "            med.append(i)\n",
    "            med_count[j]=med_count[j]+1\n",
    "    med_list.append([NTest_A1C_Glu_NAdm_idx[idx],med])"
   ]
  },
  {
   "cell_type": "code",
   "execution_count": 87,
   "metadata": {},
   "outputs": [
    {
     "name": "stdout",
     "output_type": "stream",
     "text": [
      "12679 896 479 56 3300 1 7716 6379 15 4930 4184 206 25 3 28 20588 510 10 1 1 1\n"
     ]
    }
   ],
   "source": [
    "print(*med_count)"
   ]
  },
  {
   "cell_type": "code",
   "execution_count": 88,
   "metadata": {},
   "outputs": [
    {
     "name": "stdout",
     "output_type": "stream",
     "text": [
      "12679 metformin\n",
      "896 repaglinide\n",
      "3300 glimepiride\n",
      "7716 glipizide\n",
      "6379 glyburide\n",
      "4930 pioglitazone\n",
      "4184 rosiglitazone\n",
      "20588 insulin\n",
      "510 glyburide-metformin\n"
     ]
    }
   ],
   "source": [
    "for i in range(len(med_count)):\n",
    "    if med_count[i]>500:\n",
    "        print(med_count[i], medication[i])"
   ]
  },
  {
   "cell_type": "code",
   "execution_count": 89,
   "metadata": {},
   "outputs": [],
   "source": [
    "Test_A1C_Glu_NAdm_idx=data.index[((data['max_glu_serum']=='>200') | (data['max_glu_serum']=='>300') | (data['A1Cresult']=='>7') | (data['A1Cresult']=='>8')) & (data['Target']==0)]"
   ]
  },
  {
   "cell_type": "code",
   "execution_count": 90,
   "metadata": {},
   "outputs": [
    {
     "name": "stdout",
     "output_type": "stream",
     "text": [
      "Complicated cases but not readmitted = 12.89 %\n"
     ]
    }
   ],
   "source": [
    "print('Complicated cases but not readmitted = %.2f %%' %(len(Test_A1C_Glu_NAdm_idx)/len(data)*100))"
   ]
  },
  {
   "cell_type": "code",
   "execution_count": 91,
   "metadata": {},
   "outputs": [],
   "source": [
    "Test_A1C_Glu_NAdm_Rec=data.loc[Test_A1C_Glu_NAdm_idx,['change','diabetesMed','med_status','diag_1','Target']]"
   ]
  },
  {
   "cell_type": "code",
   "execution_count": 92,
   "metadata": {},
   "outputs": [
    {
     "data": {
      "text/plain": [
       "change\n",
       "0    5115\n",
       "1    7689\n",
       "dtype: int64"
      ]
     },
     "execution_count": 92,
     "metadata": {},
     "output_type": "execute_result"
    }
   ],
   "source": [
    "Test_A1C_Glu_NAdm_Rec.groupby('change').size()"
   ]
  },
  {
   "cell_type": "code",
   "execution_count": 93,
   "metadata": {},
   "outputs": [
    {
     "data": {
      "text/plain": [
       "diabetesMed\n",
       "0     1725\n",
       "1    11079\n",
       "dtype: int64"
      ]
     },
     "execution_count": 93,
     "metadata": {},
     "output_type": "execute_result"
    }
   ],
   "source": [
    "Test_A1C_Glu_NAdm_Rec.groupby('diabetesMed').size()"
   ]
  },
  {
   "cell_type": "code",
   "execution_count": 94,
   "metadata": {},
   "outputs": [
    {
     "data": {
      "text/plain": [
       "med_status\n",
       "0    7527\n",
       "1    4864\n",
       "2     368\n",
       "3      41\n",
       "4       4\n",
       "dtype: int64"
      ]
     },
     "execution_count": 94,
     "metadata": {},
     "output_type": "execute_result"
    }
   ],
   "source": [
    "Test_A1C_Glu_NAdm_Rec.groupby('med_status').size()"
   ]
  },
  {
   "cell_type": "code",
   "execution_count": 95,
   "metadata": {},
   "outputs": [
    {
     "name": "stdout",
     "output_type": "stream",
     "text": [
      "With Complication and not readmitted, change prescribed in diabetes medication = 60.05 %\n",
      "With Complication and not readmitted, diabetes medication prescribed = 86.53 %\n",
      "With Complication and not readmitted, No medicines changed = 58.79 %\n",
      "With Complication and not readmitted, One medicine changed = 37.99 %\n"
     ]
    }
   ],
   "source": [
    "print('With Complication and not readmitted, change prescribed in diabetes medication = %.2f %%'%(len(Test_A1C_Glu_NAdm_Rec[(Test_A1C_Glu_NAdm_Rec['change']==1)])/len(Test_A1C_Glu_NAdm_Rec)*100))\n",
    "print('With Complication and not readmitted, diabetes medication prescribed = %.2f %%'%(len(Test_A1C_Glu_NAdm_Rec[(Test_A1C_Glu_NAdm_Rec['diabetesMed']==1)])/len(Test_A1C_Glu_NAdm_Rec)*100))\n",
    "print('With Complication and not readmitted, No medicines changed = %.2f %%'%(len(Test_A1C_Glu_NAdm_Rec[(Test_A1C_Glu_NAdm_Rec['med_status']==0)])/len(Test_A1C_Glu_NAdm_Rec)*100))\n",
    "print('With Complication and not readmitted, One medicine changed = %.2f %%'%(len(Test_A1C_Glu_NAdm_Rec[(Test_A1C_Glu_NAdm_Rec['med_status']==1)])/len(Test_A1C_Glu_NAdm_Rec)*100))"
   ]
  },
  {
   "cell_type": "code",
   "execution_count": 96,
   "metadata": {},
   "outputs": [],
   "source": [
    "med_list_steady=[]\n",
    "med_list_updown=[]\n",
    "col_names=['idx','medication']\n",
    "df_med_list_stedy_comp_NAdm=pd.DataFrame(columns=col_names)\n",
    "df_med_list_updown_comp_NAdm=pd.DataFrame(columns=col_names)"
   ]
  },
  {
   "cell_type": "code",
   "execution_count": 97,
   "metadata": {},
   "outputs": [],
   "source": [
    "med_count_steady=[0]*len(medication)\n",
    "med_count_updown=[0]*len(medication)\n",
    "for idx in range(len(Test_A1C_Glu_NAdm_idx)):\n",
    "    med_no=[]\n",
    "    med_yes=[]\n",
    "    for j,i in enumerate(medication):\n",
    "        if data.loc[Test_A1C_Glu_NAdm_idx[idx],i]=='Steady':\n",
    "            med_no.append(i)\n",
    "            med_count_steady[j]=med_count_steady[j]+1\n",
    "        if (data.loc[Test_A1C_Glu_NAdm_idx[idx],i]=='Up') | (data.loc[Test_A1C_Glu_NAdm_idx[idx],i]=='Down'):\n",
    "            med_yes.append(i)\n",
    "            med_count_updown[j]=med_count_updown[j]+1\n",
    "    med_list_steady.append([Test_A1C_Glu_NAdm_idx[idx],med_no])\n",
    "    med_list_updown.append([Test_A1C_Glu_NAdm_idx[idx],med_yes])"
   ]
  },
  {
   "cell_type": "code",
   "execution_count": 98,
   "metadata": {},
   "outputs": [
    {
     "name": "stdout",
     "output_type": "stream",
     "text": [
      "med_count_steady =  2617 223 69 10 635 0 1553 1239 2 840 838 49 4 0 5 4166 65 2 0 1 0\n",
      "med_count_up/down =  416 40 5 0 124 0 270 284 0 71 55 4 2 0 1 4465 2 0 0 0 0\n"
     ]
    }
   ],
   "source": [
    "print('med_count_steady = ',*med_count_steady)\n",
    "print('med_count_up/down = ',*med_count_updown)"
   ]
  },
  {
   "cell_type": "code",
   "execution_count": 99,
   "metadata": {},
   "outputs": [
    {
     "name": "stdout",
     "output_type": "stream",
     "text": [
      "Medicines - Steady Dosage\n",
      "2617 metformin\n",
      "635 glimepiride\n",
      "1553 glipizide\n",
      "1239 glyburide\n",
      "840 pioglitazone\n",
      "838 rosiglitazone\n",
      "4166 insulin\n"
     ]
    }
   ],
   "source": [
    "print('Medicines - Steady Dosage')\n",
    "for i in range(len(med_count_steady)):\n",
    "    if med_count_steady[i]>500:\n",
    "        print(med_count_steady[i], medication[i])"
   ]
  },
  {
   "cell_type": "code",
   "execution_count": 100,
   "metadata": {},
   "outputs": [
    {
     "name": "stdout",
     "output_type": "stream",
     "text": [
      "Medicines - Up/Down Dosage\n",
      "416 metformin\n",
      "124 glimepiride\n",
      "270 glipizide\n",
      "284 glyburide\n",
      "4465 insulin\n"
     ]
    }
   ],
   "source": [
    "print('Medicines - Up/Down Dosage')\n",
    "for i in range(len(med_count_updown)):\n",
    "    if med_count_updown[i]>100:\n",
    "        print(med_count_updown[i], medication[i])"
   ]
  },
  {
   "cell_type": "code",
   "execution_count": 101,
   "metadata": {},
   "outputs": [],
   "source": [
    "# Assigning the ranks to the categories\n",
    "data['A1Cresult']=data['A1Cresult'].replace('None',0)\n",
    "data['A1Cresult']=data['A1Cresult'].replace('Norm',1)\n",
    "data['A1Cresult']=data['A1Cresult'].replace('>7',2)\n",
    "data['A1Cresult']=data['A1Cresult'].replace('>8',2)"
   ]
  },
  {
   "cell_type": "code",
   "execution_count": 102,
   "metadata": {},
   "outputs": [],
   "source": [
    "# Assigning the ranks to the categories\n",
    "data['max_glu_serum']=data['max_glu_serum'].replace('None',0)\n",
    "data['max_glu_serum']=data['max_glu_serum'].replace('Norm',1)\n",
    "data['max_glu_serum']=data['max_glu_serum'].replace('>200',2)\n",
    "data['max_glu_serum']=data['max_glu_serum'].replace('>300',2)"
   ]
  },
  {
   "cell_type": "code",
   "execution_count": 103,
   "metadata": {},
   "outputs": [],
   "source": [
    "visit_Adm_idx=data.index[((data['last_yr_visit']==2) | (data['last_yr_visit']==3) | (data['last_yr_visit']==4)) & (data['Target']==1)]"
   ]
  },
  {
   "cell_type": "code",
   "execution_count": 104,
   "metadata": {},
   "outputs": [
    {
     "name": "stdout",
     "output_type": "stream",
     "text": [
      "No. of cases visited last year 2 or more times and now readmitted =  306\n"
     ]
    }
   ],
   "source": [
    "print('No. of cases visited last year 2 or more times and now readmitted = ',len(visit_Adm_idx))"
   ]
  },
  {
   "cell_type": "code",
   "execution_count": 105,
   "metadata": {},
   "outputs": [],
   "source": [
    "visit_Adm_Rec=data.loc[visit_Adm_idx,['change','diabetesMed','med_status','diag_1']]"
   ]
  },
  {
   "cell_type": "code",
   "execution_count": 106,
   "metadata": {},
   "outputs": [
    {
     "data": {
      "text/plain": [
       "change\n",
       "0    123\n",
       "1    183\n",
       "dtype: int64"
      ]
     },
     "execution_count": 106,
     "metadata": {},
     "output_type": "execute_result"
    }
   ],
   "source": [
    "visit_Adm_Rec.groupby('change').size()"
   ]
  },
  {
   "cell_type": "code",
   "execution_count": 107,
   "metadata": {},
   "outputs": [
    {
     "data": {
      "text/plain": [
       "diabetesMed\n",
       "0     48\n",
       "1    258\n",
       "dtype: int64"
      ]
     },
     "execution_count": 107,
     "metadata": {},
     "output_type": "execute_result"
    }
   ],
   "source": [
    "visit_Adm_Rec.groupby('diabetesMed').size()"
   ]
  },
  {
   "cell_type": "code",
   "execution_count": 108,
   "metadata": {},
   "outputs": [
    {
     "data": {
      "text/plain": [
       "med_status\n",
       "0    152\n",
       "1    152\n",
       "2      2\n",
       "dtype: int64"
      ]
     },
     "execution_count": 108,
     "metadata": {},
     "output_type": "execute_result"
    }
   ],
   "source": [
    "visit_Adm_Rec.groupby('med_status').size()"
   ]
  },
  {
   "cell_type": "code",
   "execution_count": 109,
   "metadata": {},
   "outputs": [
    {
     "name": "stdout",
     "output_type": "stream",
     "text": [
      "2/more visit last yr and readmitted, change prescribed in diabetes medication = 59.80 %\n",
      "2/more visit last yr and readmitted, diabetes medication prescribed = 84.31 %\n",
      "2/more visit last yr and readmitted, No. of medicines changed = 49.67 %\n",
      "2/more visit last yr and readmitted, One medicine changed = 49.67 %\n"
     ]
    }
   ],
   "source": [
    "print('2/more visit last yr and readmitted, change prescribed in diabetes medication = %.2f %%'%(len(visit_Adm_Rec[(visit_Adm_Rec['change']==1)])/len(visit_Adm_Rec)*100))\n",
    "print('2/more visit last yr and readmitted, diabetes medication prescribed = %.2f %%'%(len(visit_Adm_Rec[(visit_Adm_Rec['diabetesMed']==1)])/len(visit_Adm_Rec)*100))\n",
    "print('2/more visit last yr and readmitted, No. of medicines changed = %.2f %%'%(len(visit_Adm_Rec[(visit_Adm_Rec['med_status']==0)])/len(visit_Adm_Rec)*100))\n",
    "print('2/more visit last yr and readmitted, One medicine changed = %.2f %%'%(len(visit_Adm_Rec[(visit_Adm_Rec['med_status']==1)])/len(visit_Adm_Rec)*100))"
   ]
  },
  {
   "cell_type": "code",
   "execution_count": 110,
   "metadata": {},
   "outputs": [],
   "source": [
    "data['admission_type_id']=data['admission_type_id'].replace(2,1)\n",
    "data['admission_type_id']=data['admission_type_id'].replace(7,1)\n",
    "\n",
    "data['admission_type_id']=data['admission_type_id'].replace(6,5)\n",
    "data['admission_type_id']=data['admission_type_id'].replace(8,5)"
   ]
  },
  {
   "cell_type": "code",
   "execution_count": 111,
   "metadata": {},
   "outputs": [],
   "source": [
    "data['discharge_disposition_id']=data['discharge_disposition_id'].replace(6,1)\n",
    "data['discharge_disposition_id']=data['discharge_disposition_id'].replace(7,1)\n",
    "data['discharge_disposition_id']=data['discharge_disposition_id'].replace(8,1)\n",
    "\n",
    "data['discharge_disposition_id']=data['discharge_disposition_id'].replace(3,2)\n",
    "data['discharge_disposition_id']=data['discharge_disposition_id'].replace(4,2)\n",
    "data['discharge_disposition_id']=data['discharge_disposition_id'].replace(5,2)\n",
    "data['discharge_disposition_id']=data['discharge_disposition_id'].replace(10,2)\n",
    "data['discharge_disposition_id']=data['discharge_disposition_id'].replace(16,2)\n",
    "data['discharge_disposition_id']=data['discharge_disposition_id'].replace(22,2)\n",
    "data['discharge_disposition_id']=data['discharge_disposition_id'].replace(23,2)\n",
    "data['discharge_disposition_id']=data['discharge_disposition_id'].replace(24,2)\n",
    "data['discharge_disposition_id']=data['discharge_disposition_id'].replace(27,2)\n",
    "data['discharge_disposition_id']=data['discharge_disposition_id'].replace(28,2)\n",
    "\n",
    "data['discharge_disposition_id']=data['discharge_disposition_id'].replace(12,9)\n",
    "data['discharge_disposition_id']=data['discharge_disposition_id'].replace(15,9)\n",
    "data['discharge_disposition_id']=data['discharge_disposition_id'].replace(17,9)\n",
    "\n",
    "data['discharge_disposition_id']=data['discharge_disposition_id'].replace(25,18)\n",
    "data['discharge_disposition_id']=data['discharge_disposition_id'].replace(26,18)"
   ]
  },
  {
   "cell_type": "code",
   "execution_count": 112,
   "metadata": {},
   "outputs": [],
   "source": [
    "data['admission_source_id']=data['admission_source_id'].replace(2,1)\n",
    "data['admission_source_id']=data['admission_source_id'].replace(3,1)\n",
    "data['admission_source_id']=data['admission_source_id'].replace(7,1)\n",
    "data['admission_source_id']=data['admission_source_id'].replace(8,1)\n",
    "\n",
    "data['admission_source_id']=data['admission_source_id'].replace(5,4)\n",
    "data['admission_source_id']=data['admission_source_id'].replace(6,4)\n",
    "data['admission_source_id']=data['admission_source_id'].replace(10,4)\n",
    "data['admission_source_id']=data['admission_source_id'].replace(18,4)\n",
    "data['admission_source_id']=data['admission_source_id'].replace(19,4)\n",
    "data['admission_source_id']=data['admission_source_id'].replace(22,4)\n",
    "data['admission_source_id']=data['admission_source_id'].replace(25,4)\n",
    "\n",
    "data['admission_source_id']=data['admission_source_id'].replace(15,9)\n",
    "data['admission_source_id']=data['admission_source_id'].replace(17,9)\n",
    "data['admission_source_id']=data['admission_source_id'].replace(20,9)\n",
    "\n",
    "data['admission_source_id']=data['admission_source_id'].replace(12,11)\n",
    "data['admission_source_id']=data['admission_source_id'].replace(13,11)\n",
    "data['admission_source_id']=data['admission_source_id'].replace(23,11)\n",
    "data['admission_source_id']=data['admission_source_id'].replace(24,11)"
   ]
  },
  {
   "cell_type": "code",
   "execution_count": 113,
   "metadata": {},
   "outputs": [],
   "source": [
    "NTest_Adm_Diab_idx=data.index[(data['A1Cresult']==0) & (data['max_glu_serum']==0) &(data['diag_1']==5) & (data['Target']==1)]"
   ]
  },
  {
   "cell_type": "code",
   "execution_count": 114,
   "metadata": {},
   "outputs": [],
   "source": [
    "NTest_NAdm_Diab_idx=data.index[(data['A1Cresult']==0) & (data['max_glu_serum']==0) &(data['diag_1']==5) & (data['Target']==0)]"
   ]
  },
  {
   "cell_type": "code",
   "execution_count": 115,
   "metadata": {},
   "outputs": [
    {
     "name": "stdout",
     "output_type": "stream",
     "text": [
      "Not Tested but readmitted and diagnosed under diabetes category =  813\n",
      "Not Tested and not readmitted but diagnosed under diabetes category =  4686\n"
     ]
    }
   ],
   "source": [
    "print('Not Tested but readmitted and diagnosed under diabetes category = ',len(NTest_Adm_Diab_idx))\n",
    "print('Not Tested and not readmitted but diagnosed under diabetes category = ',len(NTest_NAdm_Diab_idx))"
   ]
  },
  {
   "cell_type": "code",
   "execution_count": 116,
   "metadata": {},
   "outputs": [
    {
     "data": {
      "text/plain": [
       "48605"
      ]
     },
     "execution_count": 116,
     "metadata": {},
     "output_type": "execute_result"
    }
   ],
   "source": [
    "data['medical_specialty'].isnull().sum()"
   ]
  },
  {
   "cell_type": "code",
   "execution_count": 117,
   "metadata": {},
   "outputs": [],
   "source": [
    "data['medical_specialty']=data['medical_specialty'].fillna('Unknown')"
   ]
  },
  {
   "cell_type": "code",
   "execution_count": 118,
   "metadata": {},
   "outputs": [
    {
     "name": "stdout",
     "output_type": "stream",
     "text": [
      "No. of Categories in \"medical_specialty\"= 73\n"
     ]
    }
   ],
   "source": [
    "# Find the no. of records for each category of the attribute 'medical_specialty' as this has more categories\n",
    "print('No. of Categories in \"medical_specialty\"=',data.medical_specialty.nunique())\n",
    "ms_list=data.groupby('medical_specialty').size().sort_values(ascending=False)"
   ]
  },
  {
   "cell_type": "code",
   "execution_count": 119,
   "metadata": {},
   "outputs": [],
   "source": [
    "#ms_list"
   ]
  },
  {
   "cell_type": "code",
   "execution_count": 120,
   "metadata": {},
   "outputs": [],
   "source": [
    "ms_unk_idx=data.index[(data['medical_specialty']=='Unknown')]"
   ]
  },
  {
   "cell_type": "code",
   "execution_count": 121,
   "metadata": {},
   "outputs": [],
   "source": [
    "ms_unk_rec=data.loc[ms_unk_idx,['change','diabetesMed','diag_1','Target']]"
   ]
  },
  {
   "cell_type": "code",
   "execution_count": 122,
   "metadata": {},
   "outputs": [
    {
     "data": {
      "text/plain": [
       "diabetesMed\n",
       "1    37055\n",
       "0    11550\n",
       "dtype: int64"
      ]
     },
     "execution_count": 122,
     "metadata": {},
     "output_type": "execute_result"
    }
   ],
   "source": [
    "ms_unk_rec.groupby('diabetesMed').size().sort_values(ascending=False)"
   ]
  },
  {
   "cell_type": "code",
   "execution_count": 123,
   "metadata": {},
   "outputs": [
    {
     "name": "stdout",
     "output_type": "stream",
     "text": [
      "unkown medical_specialty prescribed with diabetes medication = 76.24 %\n"
     ]
    }
   ],
   "source": [
    "print('unkown medical_specialty prescribed with diabetes medication = %.2f %%'%(len(ms_unk_rec[(ms_unk_rec['diabetesMed']==1)])/len(ms_unk_rec)*100))"
   ]
  },
  {
   "cell_type": "code",
   "execution_count": 124,
   "metadata": {},
   "outputs": [
    {
     "data": {
      "text/plain": [
       "change\n",
       "0    26255\n",
       "1    22350\n",
       "dtype: int64"
      ]
     },
     "execution_count": 124,
     "metadata": {},
     "output_type": "execute_result"
    }
   ],
   "source": [
    "ms_unk_rec.groupby('change').size().sort_values(ascending=False)"
   ]
  },
  {
   "cell_type": "code",
   "execution_count": 125,
   "metadata": {},
   "outputs": [
    {
     "name": "stdout",
     "output_type": "stream",
     "text": [
      "unkown medical_specialty prescribed with change in diabetes medication = 45.98 %\n"
     ]
    }
   ],
   "source": [
    "print('unkown medical_specialty prescribed with change in diabetes medication = %.2f %%'%(len(ms_unk_rec[(ms_unk_rec['change']==1)])/len(ms_unk_rec)*100))"
   ]
  },
  {
   "cell_type": "code",
   "execution_count": 126,
   "metadata": {},
   "outputs": [
    {
     "data": {
      "text/plain": [
       "diag_1\n",
       "0.0    15229\n",
       "1.0    14356\n",
       "2.0     7307\n",
       "3.0     4875\n",
       "5.0     4141\n",
       "4.0     2697\n",
       "dtype: int64"
      ]
     },
     "execution_count": 126,
     "metadata": {},
     "output_type": "execute_result"
    }
   ],
   "source": [
    "ms_unk_rec.groupby('diag_1').size().sort_values(ascending=False)"
   ]
  },
  {
   "cell_type": "code",
   "execution_count": 127,
   "metadata": {},
   "outputs": [
    {
     "name": "stdout",
     "output_type": "stream",
     "text": [
      "unkown medical_specialty diagnosed under diabetes category = 8.52 %\n"
     ]
    }
   ],
   "source": [
    "print('unkown medical_specialty diagnosed under diabetes category = %.2f %%'%(len(ms_unk_rec[(ms_unk_rec['diag_1']==5)])/len(ms_unk_rec)*100))"
   ]
  },
  {
   "cell_type": "code",
   "execution_count": 128,
   "metadata": {},
   "outputs": [],
   "source": [
    "ms_unk_replace_idx=data.index[((data['diabetesMed']==1) | (data['change']==1) | (data['diag_1']==5)) & (data['medical_specialty']=='Unknown')]"
   ]
  },
  {
   "cell_type": "code",
   "execution_count": 129,
   "metadata": {},
   "outputs": [
    {
     "data": {
      "text/plain": [
       "37803"
      ]
     },
     "execution_count": 129,
     "metadata": {},
     "output_type": "execute_result"
    }
   ],
   "source": [
    "len(ms_unk_replace_idx)"
   ]
  },
  {
   "cell_type": "code",
   "execution_count": 130,
   "metadata": {},
   "outputs": [
    {
     "data": {
      "text/plain": [
       "0.7777594897644275"
      ]
     },
     "execution_count": 130,
     "metadata": {},
     "output_type": "execute_result"
    }
   ],
   "source": [
    "37803/len(ms_unk_rec)"
   ]
  },
  {
   "cell_type": "code",
   "execution_count": 131,
   "metadata": {},
   "outputs": [],
   "source": [
    "for i in range(len(ms_unk_replace_idx)):\n",
    "    data.at[ms_unk_replace_idx[i],'medical_specialty']='Diabetes'"
   ]
  },
  {
   "cell_type": "code",
   "execution_count": 132,
   "metadata": {},
   "outputs": [],
   "source": [
    "ms_unk_idx=data.index[(data['medical_specialty']=='Unknown')]\n",
    "ms_unk_rec=data.loc[ms_unk_idx,['diag_1','Target']]"
   ]
  },
  {
   "cell_type": "code",
   "execution_count": 133,
   "metadata": {},
   "outputs": [
    {
     "data": {
      "text/plain": [
       "diag_1\n",
       "0.0    3587\n",
       "1.0    3371\n",
       "2.0    1544\n",
       "3.0    1648\n",
       "4.0     652\n",
       "dtype: int64"
      ]
     },
     "execution_count": 133,
     "metadata": {},
     "output_type": "execute_result"
    }
   ],
   "source": [
    "ms_unk_rec.groupby('diag_1').size()"
   ]
  },
  {
   "cell_type": "code",
   "execution_count": 134,
   "metadata": {},
   "outputs": [],
   "source": [
    "for i in range(len(ms_unk_idx)):\n",
    "    if data.loc[ms_unk_idx[i],'diag_1']==0:\n",
    "        data.loc[ms_unk_idx[i],'medical_specialty']='Others'\n",
    "    elif data.loc[ms_unk_idx[i],'diag_1']==1:\n",
    "        data.loc[ms_unk_idx[i],'medical_specialty']='Circulatory'\n",
    "    elif data.loc[ms_unk_idx[i],'diag_1']==2:\n",
    "        data.loc[ms_unk_idx[i],'medical_specialty']='Respiratory'\n",
    "    elif data.loc[ms_unk_idx[i],'diag_1']==3:\n",
    "        data.loc[ms_unk_idx[i],'medical_specialty']='Digestive'\n",
    "    elif data.loc[ms_unk_idx[i],'diag_1']==4:\n",
    "        data.loc[ms_unk_idx[i],'medical_specialty']='GenitoUrinary'\n",
    "    else:\n",
    "        data.loc[ms_unk_idx[i],'medical_specialty']='Diabetes'"
   ]
  },
  {
   "cell_type": "code",
   "execution_count": 135,
   "metadata": {},
   "outputs": [
    {
     "data": {
      "text/plain": [
       "medical_specialty\n",
       "Diabetes                             37803\n",
       "InternalMedicine                     14236\n",
       "Emergency/Trauma                      7419\n",
       "Family/GeneralPractice                7251\n",
       "Cardiology                            5278\n",
       "Others                                3587\n",
       "Circulatory                           3371\n",
       "Surgery-General                       3059\n",
       "Digestive                             1648\n",
       "Respiratory                           1544\n",
       "Nephrology                            1539\n",
       "Orthopedics                           1392\n",
       "Orthopedics-Reconstructive            1230\n",
       "Radiologist                           1121\n",
       "Pulmonology                            854\n",
       "Psychiatry                             853\n",
       "Urology                                682\n",
       "ObstetricsandGynecology                669\n",
       "GenitoUrinary                          652\n",
       "Surgery-Cardiovascular/Thoracic        642\n",
       "Gastroenterology                       538\n",
       "Surgery-Vascular                       525\n",
       "Surgery-Neuro                          462\n",
       "PhysicalMedicineandRehabilitation      391\n",
       "Oncology                               319\n",
       "Pediatrics                             253\n",
       "Neurology                              201\n",
       "Hematology/Oncology                    187\n",
       "Pediatrics-Endocrinology               159\n",
       "Otolaryngology                         125\n",
       "                                     ...  \n",
       "Obstetrics                              19\n",
       "Anesthesiology-Pediatric                19\n",
       "Rheumatology                            17\n",
       "Pathology                               16\n",
       "OutreachServices                        12\n",
       "Anesthesiology                          12\n",
       "Surgery-Colon&Rectal                    11\n",
       "PhysicianNotFound                       10\n",
       "Pediatrics-Neurology                    10\n",
       "Surgery-Maxillofacial                    9\n",
       "Surgery-Pediatric                        8\n",
       "Endocrinology-Metabolism                 8\n",
       "Cardiology-Pediatric                     7\n",
       "Psychiatry-Child/Adolescent              7\n",
       "AllergyandImmunology                     7\n",
       "DCPTEAM                                  5\n",
       "Dentistry                                4\n",
       "Pediatrics-Hematology-Oncology           4\n",
       "Pediatrics-AllergyandImmunology          3\n",
       "Pediatrics-EmergencyMedicine             3\n",
       "Resident                                 2\n",
       "Surgery-PlasticwithinHeadandNeck         1\n",
       "Proctology                               1\n",
       "Dermatology                              1\n",
       "SportsMedicine                           1\n",
       "Speech                                   1\n",
       "Pediatrics-InfectiousDiseases            1\n",
       "Perinatology                             1\n",
       "Psychiatry-Addictive                     1\n",
       "Neurophysiology                          1\n",
       "Length: 78, dtype: int64"
      ]
     },
     "execution_count": 135,
     "metadata": {},
     "output_type": "execute_result"
    }
   ],
   "source": [
    "data.groupby('medical_specialty').size().sort_values(ascending=False)"
   ]
  },
  {
   "cell_type": "code",
   "execution_count": 136,
   "metadata": {},
   "outputs": [],
   "source": [
    "# Finding top 10 categories in attribute 'medical_specialty'\n",
    "Top10=['Diabetes','InternalMedicine','Emergency/Trauma','Family/GeneralPractice','Cardiology','Others','Circulatory','Surgery_General','Diagestive','Respiratory']\n",
    "data['New_medical_specialty']=data['medical_specialty'].copy()\n",
    "data.loc[~data.New_medical_specialty.isin(Top10),'New_medical_specialty']='Others'"
   ]
  },
  {
   "cell_type": "code",
   "execution_count": 137,
   "metadata": {},
   "outputs": [
    {
     "data": {
      "text/plain": [
       "New_medical_specialty\n",
       "Diabetes                  37803\n",
       "Others                    22427\n",
       "InternalMedicine          14236\n",
       "Emergency/Trauma           7419\n",
       "Family/GeneralPractice     7251\n",
       "Cardiology                 5278\n",
       "Circulatory                3371\n",
       "Respiratory                1544\n",
       "dtype: int64"
      ]
     },
     "execution_count": 137,
     "metadata": {},
     "output_type": "execute_result"
    }
   ],
   "source": [
    "data.groupby('New_medical_specialty').size().sort_values(ascending=False)"
   ]
  },
  {
   "cell_type": "code",
   "execution_count": 138,
   "metadata": {},
   "outputs": [],
   "source": [
    "med_analysis=['metformin','glimepiride','glipizide','glyburide','insulin']"
   ]
  },
  {
   "cell_type": "code",
   "execution_count": 139,
   "metadata": {},
   "outputs": [],
   "source": [
    "Num_Cols.append('New_Age')\n",
    "Num_Cols.append('last_yr_visit')"
   ]
  },
  {
   "cell_type": "code",
   "execution_count": 140,
   "metadata": {},
   "outputs": [],
   "source": [
    "Num_Cols.remove('number_outpatient')\n",
    "Num_Cols.remove('number_emergency')\n",
    "Num_Cols.remove('number_inpatient')"
   ]
  },
  {
   "cell_type": "code",
   "execution_count": 141,
   "metadata": {},
   "outputs": [],
   "source": [
    "Cat_Cols=['gender','admission_type_id','discharge_disposition_id','admission_source_id','diag_1','max_glu_serum','A1Cresult','change','diabetesMed','med_status','tr_metformin','tr_glimepiride','tr_glipizide','tr_glyburide','tr_insulin']"
   ]
  },
  {
   "cell_type": "code",
   "execution_count": 142,
   "metadata": {},
   "outputs": [
    {
     "data": {
      "text/plain": [
       "['gender',\n",
       " 'admission_type_id',\n",
       " 'discharge_disposition_id',\n",
       " 'admission_source_id',\n",
       " 'diag_1',\n",
       " 'max_glu_serum',\n",
       " 'A1Cresult',\n",
       " 'change',\n",
       " 'diabetesMed',\n",
       " 'med_status',\n",
       " 'tr_metformin',\n",
       " 'tr_glimepiride',\n",
       " 'tr_glipizide',\n",
       " 'tr_glyburide',\n",
       " 'tr_insulin']"
      ]
     },
     "execution_count": 142,
     "metadata": {},
     "output_type": "execute_result"
    }
   ],
   "source": [
    "Cat_Cols"
   ]
  },
  {
   "cell_type": "code",
   "execution_count": 143,
   "metadata": {},
   "outputs": [],
   "source": [
    "data[Cat_Cols]=data[Cat_Cols].astype('str')"
   ]
  },
  {
   "cell_type": "code",
   "execution_count": 144,
   "metadata": {},
   "outputs": [],
   "source": [
    "#data.dtypes"
   ]
  },
  {
   "cell_type": "code",
   "execution_count": 145,
   "metadata": {},
   "outputs": [],
   "source": [
    "data_Encode=pd.get_dummies(data[Cat_Cols],drop_first=True)"
   ]
  },
  {
   "cell_type": "code",
   "execution_count": 146,
   "metadata": {},
   "outputs": [],
   "source": [
    "#data_Encode.dtypes"
   ]
  },
  {
   "cell_type": "code",
   "execution_count": 147,
   "metadata": {},
   "outputs": [],
   "source": [
    "data=pd.concat([data,data_Encode],axis=1)"
   ]
  },
  {
   "cell_type": "code",
   "execution_count": 148,
   "metadata": {},
   "outputs": [],
   "source": [
    "Analysis_Cols=list(Num_Cols)+list(data_Encode.columns)"
   ]
  },
  {
   "cell_type": "code",
   "execution_count": 149,
   "metadata": {},
   "outputs": [
    {
     "name": "stdout",
     "output_type": "stream",
     "text": [
      "37\n"
     ]
    },
    {
     "data": {
      "text/plain": [
       "['time_in_hospital',\n",
       " 'num_lab_procedures',\n",
       " 'num_procedures',\n",
       " 'num_medications',\n",
       " 'number_diagnoses',\n",
       " 'New_Age',\n",
       " 'last_yr_visit',\n",
       " 'gender_1',\n",
       " 'admission_type_id_3',\n",
       " 'admission_type_id_5',\n",
       " 'discharge_disposition_id_18',\n",
       " 'discharge_disposition_id_2',\n",
       " 'discharge_disposition_id_9',\n",
       " 'admission_source_id_11',\n",
       " 'admission_source_id_14',\n",
       " 'admission_source_id_4',\n",
       " 'admission_source_id_9',\n",
       " 'diag_1_1.0',\n",
       " 'diag_1_2.0',\n",
       " 'diag_1_3.0',\n",
       " 'diag_1_4.0',\n",
       " 'diag_1_5.0',\n",
       " 'max_glu_serum_1',\n",
       " 'max_glu_serum_2',\n",
       " 'A1Cresult_1',\n",
       " 'A1Cresult_2',\n",
       " 'change_1',\n",
       " 'diabetesMed_1',\n",
       " 'med_status_1',\n",
       " 'med_status_2',\n",
       " 'med_status_3',\n",
       " 'med_status_4',\n",
       " 'tr_metformin_1',\n",
       " 'tr_glimepiride_1',\n",
       " 'tr_glipizide_1',\n",
       " 'tr_glyburide_1',\n",
       " 'tr_insulin_1']"
      ]
     },
     "execution_count": 149,
     "metadata": {},
     "output_type": "execute_result"
    }
   ],
   "source": [
    "print(len(Analysis_Cols))\n",
    "Analysis_Cols"
   ]
  },
  {
   "cell_type": "code",
   "execution_count": 150,
   "metadata": {},
   "outputs": [
    {
     "data": {
      "text/plain": [
       "(99329, 38)"
      ]
     },
     "execution_count": 150,
     "metadata": {},
     "output_type": "execute_result"
    }
   ],
   "source": [
    "# Over all list of features for analysis \n",
    "data_Analysis=data[Analysis_Cols+['Target']]\n",
    "data_Analysis.shape"
   ]
  },
  {
   "cell_type": "code",
   "execution_count": 152,
   "metadata": {},
   "outputs": [],
   "source": [
    "# Shuffling the data\n",
    "data_Analysis=data_Analysis.sample(n=len(data_Analysis), random_state=45)\n",
    "data_Analysis=data_Analysis.reset_index(drop=True)"
   ]
  },
  {
   "cell_type": "code",
   "execution_count": 153,
   "metadata": {},
   "outputs": [],
   "source": [
    "# Spliting 70% to Training 15% to validation and 15% to Testing\n",
    "data_temp=data_Analysis.sample(frac=0.3, random_state=45)\n",
    "data_train=data_Analysis.drop(data_temp.index)\n",
    "\n",
    "data_valid=data_temp.sample(frac=0.5, random_state=45)\n",
    "data_test=data_temp.drop(data_valid.index)"
   ]
  },
  {
   "cell_type": "code",
   "execution_count": 154,
   "metadata": {},
   "outputs": [
    {
     "name": "stdout",
     "output_type": "stream",
     "text": [
      "Train Split Size= 0.70\n",
      "Validation Split Size=0.15\n",
      "Test Split Size=0.15\n"
     ]
    }
   ],
   "source": [
    "print('Train Split Size= %.2f'%(len(data_train)/len(data_Analysis)))\n",
    "print('Validation Split Size=%.2f'%(len(data_valid)/len(data_Analysis)))\n",
    "print('Test Split Size=%.2f'%(len(data_test)/len(data_Analysis)))"
   ]
  },
  {
   "cell_type": "code",
   "execution_count": 155,
   "metadata": {},
   "outputs": [
    {
     "name": "stdout",
     "output_type": "stream",
     "text": [
      "Train Prevalence=0.1138\n",
      "Validation Prevalence=0.1135\n",
      "Test Prevalence=0.1148\n"
     ]
    }
   ],
   "source": [
    "# Prevalence of Records in each set\n",
    "print('Train Prevalence=%.4f'%(sum(data_train['Target'].values)/len(data_train['Target'].values)))\n",
    "print('Validation Prevalence=%.4f'%(sum(data_valid['Target'].values)/len(data_valid['Target'].values)))\n",
    "print('Test Prevalence=%.4f'%(sum(data_test['Target'].values)/len(data_test['Target'].values)))"
   ]
  },
  {
   "cell_type": "code",
   "execution_count": 156,
   "metadata": {},
   "outputs": [
    {
     "name": "stdout",
     "output_type": "stream",
     "text": [
      "Prevalence=0.1139\n"
     ]
    }
   ],
   "source": [
    "# Prevalence of Records over all\n",
    "print('Prevalence=%.4f'%(sum(data_Analysis['Target'].values)/len(data_Analysis['Target'].values)))"
   ]
  },
  {
   "cell_type": "code",
   "execution_count": 157,
   "metadata": {},
   "outputs": [
    {
     "name": "stdout",
     "output_type": "stream",
     "text": [
      "No. of Positive Records= 88016\n",
      "No. of Negative Records= 11313\n"
     ]
    }
   ],
   "source": [
    "# Checking for Class Imbalance\n",
    "details=data_Analysis.groupby('Target').size()\n",
    "print('No. of Positive Records=',details[0])\n",
    "print('No. of Negative Records=',details[1])"
   ]
  },
  {
   "cell_type": "code",
   "execution_count": 158,
   "metadata": {},
   "outputs": [
    {
     "name": "stdout",
     "output_type": "stream",
     "text": [
      "No. of Negative Records= 61619\n",
      "No. of Positive Records= 7911\n"
     ]
    }
   ],
   "source": [
    "# Finding the positive and negative cases in training dataset\n",
    "details=data_train.groupby('Target').size()\n",
    "print('No. of Negative Records=',details[0])\n",
    "print('No. of Positive Records=',details[1])"
   ]
  },
  {
   "cell_type": "code",
   "execution_count": 159,
   "metadata": {},
   "outputs": [],
   "source": [
    "# Postive and Negative Records based on Target Feature\n",
    "pos_rec=data_train.Target==1\n",
    "data_train_pos=data_train.loc[pos_rec]\n",
    "data_train_neg=data_train.loc[~pos_rec]"
   ]
  },
  {
   "cell_type": "code",
   "execution_count": 172,
   "metadata": {},
   "outputs": [],
   "source": [
    "# Class Imbalance - Sub sample method is applied\n",
    "data_train=pd.concat([data_train_pos,data_train_neg.sample(n=len(data_train_pos),random_state=45)],axis=0)\n",
    "data_train=data_train.sample(n=len(data_train),random_state=45).reset_index(drop=True)"
   ]
  },
  {
   "cell_type": "code",
   "execution_count": 173,
   "metadata": {},
   "outputs": [
    {
     "name": "stdout",
     "output_type": "stream",
     "text": [
      "Train Prevalence= 0.5\n",
      "No. of Positive Records= 7911\n",
      "No. of Negative Records= 7911\n"
     ]
    }
   ],
   "source": [
    "print('Train Prevalence=',sum(data_train['Target'].values)/len(data_train['Target'].values))\n",
    "details=data_train.groupby('Target').size()\n",
    "print('No. of Positive Records=',details[0])\n",
    "print('No. of Negative Records=',details[1])"
   ]
  },
  {
   "cell_type": "code",
   "execution_count": 174,
   "metadata": {},
   "outputs": [],
   "source": [
    "# Splitting the dataset into i/p matrix and o/p vector\n",
    "X_train=data_train[Analysis_Cols].values\n",
    "X_valid=data_valid[Analysis_Cols].values\n",
    "\n",
    "y_train=data_train['Target'].values\n",
    "y_valid=data_valid['Target'].values"
   ]
  },
  {
   "cell_type": "code",
   "execution_count": 175,
   "metadata": {},
   "outputs": [
    {
     "name": "stdout",
     "output_type": "stream",
     "text": [
      "Training Shape= (15822, 37) (15822,)\n",
      "Validation Shape= (14900, 37) (14900,)\n"
     ]
    }
   ],
   "source": [
    "print('Training Shape=',X_train.shape,y_train.shape)\n",
    "print('Validation Shape=',X_valid.shape,y_valid.shape)"
   ]
  },
  {
   "cell_type": "code",
   "execution_count": 176,
   "metadata": {},
   "outputs": [
    {
     "data": {
      "text/plain": [
       "StandardScaler(copy=True, with_mean=True, with_std=True)"
      ]
     },
     "execution_count": 176,
     "metadata": {},
     "output_type": "execute_result"
    }
   ],
   "source": [
    "# Standard Scaling on i/p matrix\n",
    "from sklearn.preprocessing import StandardScaler\n",
    "scaler=StandardScaler()\n",
    "scaler.fit(X_train)"
   ]
  },
  {
   "cell_type": "code",
   "execution_count": 177,
   "metadata": {},
   "outputs": [],
   "source": [
    "# Save the Scaler\n",
    "import pickle\n",
    "scalerfile='scaler.sav'\n",
    "pickle.dump(scaler,open(scalerfile,'wb'))\n",
    "caler=pickle.load(open(scalerfile,'rb'))"
   ]
  },
  {
   "cell_type": "code",
   "execution_count": 178,
   "metadata": {},
   "outputs": [],
   "source": [
    "# Transform the input features\n",
    "X_train_scale=scaler.transform(X_train)\n",
    "X_valid_scale=scaler.transform(X_valid)"
   ]
  },
  {
   "cell_type": "code",
   "execution_count": 179,
   "metadata": {},
   "outputs": [],
   "source": [
    "threshold=0.5"
   ]
  },
  {
   "cell_type": "code",
   "execution_count": 180,
   "metadata": {},
   "outputs": [],
   "source": [
    "# Import Libraries related to Performance Metrics\n",
    "from sklearn.metrics import roc_auc_score, accuracy_score, precision_score, recall_score, f1_score, roc_curve"
   ]
  },
  {
   "cell_type": "code",
   "execution_count": 181,
   "metadata": {},
   "outputs": [],
   "source": [
    "# A function for calculating the Performance metrics of the model\n",
    "def report(y_true, y_pred, threshold):\n",
    "    accuracy=accuracy_score(y_true, (y_pred>threshold))\n",
    "    precision=precision_score(y_true,(y_pred>threshold))\n",
    "    recall=recall_score(y_true,(y_pred>threshold))\n",
    "    f1score=f1_score(y_true,y_pred>threshold)\n",
    "    auc=roc_auc_score(y_true, y_pred)\n",
    "    print('Accuracy = %.2f '%accuracy)\n",
    "    print('Precision = %.2f '%precision)\n",
    "    print('Recall = %.2f '%recall)\n",
    "    print('F1 Score = %.2f '%f1score)\n",
    "    print('AUC = %.2f '%auc)\n",
    "    print(' ')\n",
    "    return accuracy, precision, recall, f1score, auc"
   ]
  },
  {
   "cell_type": "code",
   "execution_count": 182,
   "metadata": {},
   "outputs": [
    {
     "data": {
      "text/plain": [
       "LogisticRegression(C=1.0, class_weight=None, dual=False, fit_intercept=True,\n",
       "                   intercept_scaling=1, l1_ratio=None, max_iter=100,\n",
       "                   multi_class='warn', n_jobs=None, penalty='l2',\n",
       "                   random_state=45, solver='lbfgs', tol=0.0001, verbose=0,\n",
       "                   warm_start=False)"
      ]
     },
     "execution_count": 182,
     "metadata": {},
     "output_type": "execute_result"
    }
   ],
   "source": [
    "# Model 1 - Logistic Regression\n",
    "from sklearn.linear_model import LogisticRegression\n",
    "lr=LogisticRegression(solver='lbfgs',random_state=45)\n",
    "lr.fit(X_train_scale,y_train)"
   ]
  },
  {
   "cell_type": "code",
   "execution_count": 183,
   "metadata": {},
   "outputs": [],
   "source": [
    "y_train_pred=lr.predict_proba(X_train_scale)[:,1]\n",
    "y_valid_pred=lr.predict_proba(X_valid_scale)[:,1]"
   ]
  },
  {
   "cell_type": "code",
   "execution_count": 196,
   "metadata": {},
   "outputs": [
    {
     "name": "stdout",
     "output_type": "stream",
     "text": [
      "Logistic Regression\n",
      "Training\n",
      "Accuracy = 0.59 \n",
      "Precision = 0.59 \n",
      "Recall = 0.60 \n",
      "F1 Score = 0.60 \n",
      "AUC = 0.63 \n",
      " \n",
      "Validation\n",
      "Accuracy = 0.60 \n",
      "Precision = 0.16 \n",
      "Recall = 0.60 \n",
      "F1 Score = 0.25 \n",
      "AUC = 0.64 \n",
      " \n"
     ]
    }
   ],
   "source": [
    "print('Logistic Regression')\n",
    "print('Training')\n",
    "lr_train_accurracy, lr_train_precision, lr_train_recall, lr_train_f1, lr_train_auc=report(y_train, y_train_pred, threshold)\n",
    "print('Validation')\n",
    "lr_valid_accurracy, lr_valid_precision, lr_valid_recall, lr_train_f1, lr_valid_auc=report(y_valid, y_valid_pred, threshold)"
   ]
  },
  {
   "cell_type": "code",
   "execution_count": 185,
   "metadata": {},
   "outputs": [
    {
     "data": {
      "text/plain": [
       "RandomForestClassifier(bootstrap=True, class_weight=None, criterion='gini',\n",
       "                       max_depth=5, max_features='auto', max_leaf_nodes=None,\n",
       "                       min_impurity_decrease=0.0, min_impurity_split=None,\n",
       "                       min_samples_leaf=1, min_samples_split=2,\n",
       "                       min_weight_fraction_leaf=0.0, n_estimators=100,\n",
       "                       n_jobs=None, oob_score=False, random_state=45, verbose=0,\n",
       "                       warm_start=False)"
      ]
     },
     "execution_count": 185,
     "metadata": {},
     "output_type": "execute_result"
    }
   ],
   "source": [
    "# Model 2 - Random Forest\n",
    "from sklearn.ensemble import RandomForestClassifier\n",
    "rf=RandomForestClassifier(max_depth=5, n_estimators=100, random_state=45)\n",
    "rf.fit(X_train_scale, y_train)"
   ]
  },
  {
   "cell_type": "code",
   "execution_count": 186,
   "metadata": {},
   "outputs": [],
   "source": [
    "y_train_pred=rf.predict_proba(X_train_scale)[:,1]\n",
    "y_valid_pred=rf.predict_proba(X_valid_scale)[:,1]"
   ]
  },
  {
   "cell_type": "code",
   "execution_count": 188,
   "metadata": {},
   "outputs": [
    {
     "name": "stdout",
     "output_type": "stream",
     "text": [
      "Random Forest\n",
      "Training\n",
      "Accuracy = 0.61 \n",
      "Precision = 0.60 \n",
      "Recall = 0.67 \n",
      "F1 Score = 0.63 \n",
      "AUC = 0.65 \n",
      " \n",
      "Validation\n",
      "Accuracy = 0.56 \n",
      "Precision = 0.16 \n",
      "Recall = 0.66 \n",
      "F1 Score = 0.26 \n",
      "AUC = 0.64 \n",
      " \n"
     ]
    }
   ],
   "source": [
    "print('Random Forest')\n",
    "print('Training')\n",
    "rf_train_accurracy, rf_train_precision, rf_train_recall, rf_train_f1, rf_train_auc=report(y_train, y_train_pred, threshold)\n",
    "print('Validation')\n",
    "rf_valid_accurracy, rf_valid_precision, rf_valid_recall, rf_valid_f1, rf_valid_auc=report(y_valid, y_valid_pred, threshold)"
   ]
  },
  {
   "cell_type": "code",
   "execution_count": 189,
   "metadata": {},
   "outputs": [
    {
     "data": {
      "text/plain": [
       "XGBRegressor(alpha=10, base_score=0.5, booster=None, colsample_bylevel=1,\n",
       "             colsample_bynode=1, colsample_bytree=0.3, gamma=0, gpu_id=-1,\n",
       "             importance_type='gain', interaction_constraints=None,\n",
       "             learning_rate=0.1, max_delta_step=0, max_depth=5,\n",
       "             min_child_weight=1, missing=nan, monotone_constraints=None,\n",
       "             n_estimators=10, n_jobs=0, num_parallel_tree=1,\n",
       "             objective='reg:squarederror', random_state=0, reg_alpha=10,\n",
       "             reg_lambda=1, scale_pos_weight=1, subsample=1, tree_method=None,\n",
       "             validate_parameters=False, verbosity=None)"
      ]
     },
     "execution_count": 189,
     "metadata": {},
     "output_type": "execute_result"
    }
   ],
   "source": [
    "# Model 3 - XGBoost Classifier\n",
    "import xgboost as xgb\n",
    "from sklearn.metrics import mean_squared_error\n",
    "xg = xgb.XGBRegressor(objective ='reg:squarederror', colsample_bytree = 0.3, learning_rate = 0.1, max_depth = 5, alpha = 10, n_estimators = 10)\n",
    "xg.fit(X_train_scale,y_train)"
   ]
  },
  {
   "cell_type": "code",
   "execution_count": 190,
   "metadata": {},
   "outputs": [],
   "source": [
    "y_train_pred=xg.predict(X_train_scale)\n",
    "y_valid_pred=xg.predict(X_valid_scale)"
   ]
  },
  {
   "cell_type": "code",
   "execution_count": 191,
   "metadata": {},
   "outputs": [
    {
     "name": "stdout",
     "output_type": "stream",
     "text": [
      "XGBoost Classifier\n",
      "Training\n",
      "Accuracy = 0.59 \n",
      "Precision = 0.58 \n",
      "Recall = 0.63 \n",
      "F1 Score = 0.61 \n",
      "AUC = 0.62 \n",
      " \n",
      "Validation\n",
      "Accuracy = 0.56 \n",
      "Precision = 0.16 \n",
      "Recall = 0.65 \n",
      "F1 Score = 0.25 \n",
      "AUC = 0.62 \n",
      " \n"
     ]
    }
   ],
   "source": [
    "print('XGBoost Classifier')\n",
    "print('Training')\n",
    "xg_train_accurracy, xg_train_precision, xg_train_recall, xg_train_f1, xg_train_auc=report(y_train, y_train_pred, threshold)\n",
    "print('Validation')\n",
    "xg_valid_accurracy, xg_valid_precision, xg_valid_recall, xg_valid_f1, xg_valid_auc=report(y_valid, y_valid_pred, threshold)"
   ]
  },
  {
   "cell_type": "code",
   "execution_count": 192,
   "metadata": {},
   "outputs": [
    {
     "data": {
      "text/plain": [
       "SGDClassifier(alpha=0.1, average=False, class_weight=None, early_stopping=False,\n",
       "              epsilon=0.1, eta0=0.0, fit_intercept=True, l1_ratio=0.15,\n",
       "              learning_rate='optimal', loss='log', max_iter=1000,\n",
       "              n_iter_no_change=5, n_jobs=None, penalty='l2', power_t=0.5,\n",
       "              random_state=42, shuffle=True, tol=0.001, validation_fraction=0.1,\n",
       "              verbose=0, warm_start=False)"
      ]
     },
     "execution_count": 192,
     "metadata": {},
     "output_type": "execute_result"
    }
   ],
   "source": [
    "# Model 4 - Stochastic Gradient Descent\n",
    "from sklearn.linear_model import SGDClassifier\n",
    "sgdc=SGDClassifier(loss='log',alpha=0.1, random_state=42)\n",
    "sgdc.fit(X_train_scale, y_train)"
   ]
  },
  {
   "cell_type": "code",
   "execution_count": 193,
   "metadata": {},
   "outputs": [],
   "source": [
    "y_train_pred=sgdc.predict_proba(X_train_scale)[:,1]\n",
    "y_valid_pred=sgdc.predict_proba(X_valid_scale)[:,1]"
   ]
  },
  {
   "cell_type": "code",
   "execution_count": 194,
   "metadata": {},
   "outputs": [
    {
     "name": "stdout",
     "output_type": "stream",
     "text": [
      "Stochastic Gradient Descent\n",
      "Training\n",
      "Accuracy = 0.59 \n",
      "Precision = 0.59 \n",
      "Recall = 0.60 \n",
      "F1 Score = 0.60 \n",
      "AUC = 0.63 \n",
      " \n",
      "Validation\n",
      "Accuracy = 0.60 \n",
      "Precision = 0.16 \n",
      "Recall = 0.60 \n",
      "F1 Score = 0.25 \n",
      "AUC = 0.64 \n",
      " \n"
     ]
    }
   ],
   "source": [
    "print('Stochastic Gradient Descent')\n",
    "print('Training')\n",
    "sgdc_train_accurracy, sgdc_train_precision, sgdc_train_recall, sgdc_train_f1, sgdc_train_auc=report(y_train, y_train_pred, threshold)\n",
    "print('Validation')\n",
    "sgdc_valid_accurracy, sgdc_valid_precision, sgdc_valid_recall, sgdc_valid_f1, sgdc_valid_auc=report(y_valid, y_valid_pred, threshold)"
   ]
  },
  {
   "cell_type": "code",
   "execution_count": 197,
   "metadata": {},
   "outputs": [
    {
     "name": "stdout",
     "output_type": "stream",
     "text": [
      "    AUC Classifier      Result\n",
      "0  0.63         LR       Train\n",
      "0  0.64         LR  Validation\n",
      "0  0.65         RF       Train\n",
      "0  0.64         RF  Validation\n",
      "0  0.62        XGB       Train\n",
      "0  0.62        XGB  Validation\n",
      "0  0.63        SGD       Train\n",
      "0  0.64        SGD  Validation\n"
     ]
    }
   ],
   "source": [
    "# Comparison of AUC of all models\n",
    "auc_lr_train=pd.DataFrame({'AUC':[lr_train_auc],'Classifier':'LR','Result':'Train'})\n",
    "auc_lr_valid=pd.DataFrame({'AUC':[lr_valid_auc],'Classifier':'LR','Result':'Validation'})\n",
    "\n",
    "auc_rf_train=pd.DataFrame({'AUC':[rf_train_auc],'Classifier':'RF','Result':'Train'})\n",
    "auc_rf_valid=pd.DataFrame({'AUC':[rf_valid_auc],'Classifier':'RF','Result':'Validation'})\n",
    "\n",
    "auc_xg_train=pd.DataFrame({'AUC':[xg_train_auc],'Classifier':'XGB','Result':'Train'})\n",
    "auc_xg_valid=pd.DataFrame({'AUC':[xg_valid_auc],'Classifier':'XGB','Result':'Validation'})\n",
    "\n",
    "auc_sgdc_train=pd.DataFrame({'AUC':[sgdc_train_auc],'Classifier':'SGD','Result':'Train'})\n",
    "auc_sgdc_valid=pd.DataFrame({'AUC':[sgdc_valid_auc],'Classifier':'SGD','Result':'Validation'})\n",
    "\n",
    "All_AUC=pd.concat([auc_lr_train,auc_lr_valid,auc_rf_train,auc_rf_valid, auc_xg_train,auc_xg_valid, auc_sgdc_train, auc_sgdc_valid])\n",
    "print(All_AUC)"
   ]
  },
  {
   "cell_type": "code",
   "execution_count": 198,
   "metadata": {},
   "outputs": [
    {
     "data": {
      "text/plain": [
       "<matplotlib.axes._subplots.AxesSubplot at 0x1b71f989a58>"
      ]
     },
     "execution_count": 198,
     "metadata": {},
     "output_type": "execute_result"
    },
    {
     "data": {
      "image/png": "[encoded data removed]",
      "text/plain": [
       "<Figure size 432x288 with 1 Axes>"
      ]
     },
     "metadata": {
      "needs_background": "light"
     },
     "output_type": "display_data"
    }
   ],
   "source": [
    "sb.barplot(data=All_AUC,x='Classifier',y='AUC',hue='Result')"
   ]
  },
  {
   "cell_type": "code",
   "execution_count": 199,
   "metadata": {},
   "outputs": [],
   "source": [
    "from sklearn.model_selection import RandomizedSearchCV\n",
    "from sklearn.metrics import make_scorer, roc_auc_score\n",
    "auc_scoring=make_scorer(roc_auc_score)"
   ]
  },
  {
   "cell_type": "code",
   "execution_count": 200,
   "metadata": {},
   "outputs": [
    {
     "name": "stderr",
     "output_type": "stream",
     "text": [
      "C:\\ProgramData\\Anaconda3\\lib\\site-packages\\sklearn\\linear_model\\stochastic_gradient.py:561: ConvergenceWarning: Maximum number of iteration reached before convergence. Consider increasing max_iter to improve the fit.\n",
      "  ConvergenceWarning)\n"
     ]
    },
    {
     "data": {
      "text/plain": [
       "RandomizedSearchCV(cv=2, error_score='raise-deprecating',\n",
       "                   estimator=SGDClassifier(alpha=0.1, average=False,\n",
       "                                           class_weight=None,\n",
       "                                           early_stopping=False, epsilon=0.1,\n",
       "                                           eta0=0.0, fit_intercept=True,\n",
       "                                           l1_ratio=0.15,\n",
       "                                           learning_rate='optimal', loss='log',\n",
       "                                           max_iter=1000, n_iter_no_change=5,\n",
       "                                           n_jobs=None, penalty='l2',\n",
       "                                           power_t=0.5, random_state=42,\n",
       "                                           shuffle=True, tol=0.001,\n",
       "                                           validation_fraction=0.1, verbose=0,\n",
       "                                           warm_start=False),\n",
       "                   iid='warn', n_iter=20, n_jobs=None,\n",
       "                   param_distributions={'alpha': [0.001, 0.003, 0.01, 0.03, 0.1,\n",
       "                                                  0.3],\n",
       "                                        'max_iter': range(100, 500, 100),\n",
       "                                        'penalty': ['none', 'l2', 'l1']},\n",
       "                   pre_dispatch='2*n_jobs', random_state=45, refit=True,\n",
       "                   return_train_score=False, scoring=make_scorer(roc_auc_score),\n",
       "                   verbose=0)"
      ]
     },
     "execution_count": 200,
     "metadata": {},
     "output_type": "execute_result"
    }
   ],
   "source": [
    "# Stochastic Gradient Descent\n",
    "penalty=['none','l2','l1']\n",
    "max_iter=range(100,500,100)\n",
    "alpha=[0.001,0.003,0.01,0.03,0.1,0.3]\n",
    "random_grid_sgdc={'penalty':penalty,'max_iter':max_iter,'alpha':alpha}\n",
    "sgdc_random=RandomizedSearchCV(estimator=sgdc,param_distributions=random_grid_sgdc,n_iter=20,cv=2,scoring=auc_scoring,verbose=0,random_state=45)\n",
    "sgdc_random.fit(X_train_scale,y_train)"
   ]
  },
  {
   "cell_type": "code",
   "execution_count": 201,
   "metadata": {},
   "outputs": [
    {
     "data": {
      "text/plain": [
       "{'penalty': 'l2', 'max_iter': 300, 'alpha': 0.003}"
      ]
     },
     "execution_count": 201,
     "metadata": {},
     "output_type": "execute_result"
    }
   ],
   "source": [
    "sgdc_random.best_params_"
   ]
  },
  {
   "cell_type": "code",
   "execution_count": 202,
   "metadata": {},
   "outputs": [
    {
     "name": "stdout",
     "output_type": "stream",
     "text": [
      "Baseline Stochastic Gradient Descent\n",
      "Training AUC = 0.63 \n",
      "Validation AUC = 0.64 \n",
      "Optimized Stochastic Gradient Descent\n",
      "Training AUC = 0.63 \n",
      "Validation AUC = 0.64 \n"
     ]
    }
   ],
   "source": [
    "y_train_pred=sgdc.predict_proba(X_train_scale)[:,1]\n",
    "y_valid_pred=sgdc.predict_proba(X_valid_scale)[:,1]\n",
    "\n",
    "print('Baseline Stochastic Gradient Descent')\n",
    "sgdc_train_auc_base=roc_auc_score(y_train,y_train_pred)\n",
    "sgdc_valid_auc_base=roc_auc_score(y_valid,y_valid_pred)\n",
    "\n",
    "print('Training AUC = %.2f '%sgdc_train_auc_base)\n",
    "print('Validation AUC = %.2f '%sgdc_valid_auc_base)\n",
    "\n",
    "print('Optimized Stochastic Gradient Descent')\n",
    "y_train_pred_random=sgdc_random.best_estimator_.predict_proba(X_train_scale)[:,1]\n",
    "y_valid_pred_random=sgdc_random.best_estimator_.predict_proba(X_valid_scale)[:,1]\n",
    "\n",
    "sgdc_train_auc=roc_auc_score(y_train, y_train_pred_random)\n",
    "sgdc_valid_auc=roc_auc_score(y_valid, y_valid_pred_random)\n",
    "\n",
    "print('Training AUC = %.2f '%sgdc_train_auc)\n",
    "print('Validation AUC = %.2f '%sgdc_valid_auc)"
   ]
  },
  {
   "cell_type": "code",
   "execution_count": 203,
   "metadata": {},
   "outputs": [
    {
     "name": "stdout",
     "output_type": "stream",
     "text": [
      "{'n_estimators': range(200, 1000, 200), 'max_features': ['auto', 'sqrt'], 'max_depth': range(1, 10), 'min_samples_split': range(2, 10, 2), 'criterion': ['gini', 'entropy']}\n"
     ]
    }
   ],
   "source": [
    "# Random Forest\n",
    "n_estimators=range(200,1000,200)\n",
    "max_features=['auto','sqrt']\n",
    "max_depth=range(1,10,1)\n",
    "min_samples_split=range(2,10,2)\n",
    "criterion=['gini','entropy']\n",
    "\n",
    "random_grid={'n_estimators':n_estimators,'max_features':max_features,'max_depth':max_depth,'min_samples_split':min_samples_split,'criterion':criterion}\n",
    "print(random_grid)"
   ]
  },
  {
   "cell_type": "code",
   "execution_count": 204,
   "metadata": {},
   "outputs": [
    {
     "name": "stdout",
     "output_type": "stream",
     "text": [
      "Fitting 2 folds for each of 20 candidates, totalling 40 fits\n"
     ]
    },
    {
     "name": "stderr",
     "output_type": "stream",
     "text": [
      "[Parallel(n_jobs=1)]: Using backend SequentialBackend with 1 concurrent workers.\n",
      "[Parallel(n_jobs=1)]: Done  40 out of  40 | elapsed:   52.4s finished\n"
     ]
    },
    {
     "data": {
      "text/plain": [
       "RandomizedSearchCV(cv=2, error_score='raise-deprecating',\n",
       "                   estimator=RandomForestClassifier(bootstrap=True,\n",
       "                                                    class_weight=None,\n",
       "                                                    criterion='gini',\n",
       "                                                    max_depth=5,\n",
       "                                                    max_features='auto',\n",
       "                                                    max_leaf_nodes=None,\n",
       "                                                    min_impurity_decrease=0.0,\n",
       "                                                    min_impurity_split=None,\n",
       "                                                    min_samples_leaf=1,\n",
       "                                                    min_samples_split=2,\n",
       "                                                    min_weight_fraction_leaf=0.0,\n",
       "                                                    n_estimators=100,\n",
       "                                                    n_jobs=None,\n",
       "                                                    oob_score=Fa...\n",
       "                                                    random_state=45, verbose=0,\n",
       "                                                    warm_start=False),\n",
       "                   iid='warn', n_iter=20, n_jobs=None,\n",
       "                   param_distributions={'criterion': ['gini', 'entropy'],\n",
       "                                        'max_depth': range(1, 10),\n",
       "                                        'max_features': ['auto', 'sqrt'],\n",
       "                                        'min_samples_split': range(2, 10, 2),\n",
       "                                        'n_estimators': range(200, 1000, 200)},\n",
       "                   pre_dispatch='2*n_jobs', random_state=45, refit=True,\n",
       "                   return_train_score=False, scoring=make_scorer(roc_auc_score),\n",
       "                   verbose=1)"
      ]
     },
     "execution_count": 204,
     "metadata": {},
     "output_type": "execute_result"
    }
   ],
   "source": [
    "rf_random=RandomizedSearchCV(estimator=rf, param_distributions=random_grid, n_iter=20, cv=2, scoring=auc_scoring, verbose=1, random_state=45)\n",
    "rf_random.fit(X_train_scale, y_train)"
   ]
  },
  {
   "cell_type": "code",
   "execution_count": 205,
   "metadata": {},
   "outputs": [
    {
     "data": {
      "text/plain": [
       "{'n_estimators': 400,\n",
       " 'min_samples_split': 4,\n",
       " 'max_features': 'sqrt',\n",
       " 'max_depth': 9,\n",
       " 'criterion': 'entropy'}"
      ]
     },
     "execution_count": 205,
     "metadata": {},
     "output_type": "execute_result"
    }
   ],
   "source": [
    "rf_random.best_params_"
   ]
  },
  {
   "cell_type": "code",
   "execution_count": 209,
   "metadata": {},
   "outputs": [
    {
     "name": "stdout",
     "output_type": "stream",
     "text": [
      "Baseline Random Forest\n",
      "Training AUC = 0.65 \n",
      "Validation AUC = 0.64 \n",
      "Optimized Random Forest\n",
      "Training AUC = 0.74 \n",
      "Validation AUC = 0.65 \n"
     ]
    }
   ],
   "source": [
    "y_train_pred=rf.predict_proba(X_train_scale)[:,1]\n",
    "y_valid_pred=rf.predict_proba(X_valid_scale)[:,1]\n",
    "\n",
    "print('Baseline Random Forest')\n",
    "rf_train_auc_base=roc_auc_score(y_train,y_train_pred)\n",
    "rf_valid_auc_base=roc_auc_score(y_valid,y_valid_pred)\n",
    "\n",
    "print('Training AUC = %.2f '%rf_train_auc_base)\n",
    "print('Validation AUC = %.2f '%rf_valid_auc_base)\n",
    "\n",
    "print('Optimized Random Forest')\n",
    "y_train_pred_random=rf_random.best_estimator_.predict_proba(X_train_scale)[:,1]\n",
    "y_valid_pred_random=rf_random.best_estimator_.predict_proba(X_valid_scale)[:,1]\n",
    "\n",
    "rf_train_auc=roc_auc_score(y_train, y_train_pred_random)\n",
    "rf_valid_auc=roc_auc_score(y_valid, y_valid_pred_random)\n",
    "\n",
    "print('Training AUC = %.2f '%rf_train_auc)\n",
    "print('Validation AUC = %.2f '%rf_valid_auc)"
   ]
  },
  {
   "cell_type": "code",
   "execution_count": 210,
   "metadata": {},
   "outputs": [
    {
     "name": "stdout",
     "output_type": "stream",
     "text": [
      "    AUC Classifier     Result\n",
      "0  0.64        SGD   Baseline\n",
      "0  0.64        SGD  Optimized\n",
      "0  0.64         RF   Baseline\n",
      "0  0.65         RF  Optimized\n"
     ]
    }
   ],
   "source": [
    "# Comparison of Random Forest and Stocastic Gradient Descent After Model Tuning\n",
    "auc_sgdc_valid_base=pd.DataFrame({'AUC':[sgdc_valid_auc_base],'Classifier':'SGD','Result':'Baseline'})\n",
    "auc_sgdc_valid_opt=pd.DataFrame({'AUC':[sgdc_valid_auc],'Classifier':'SGD','Result':'Optimized'})\n",
    "\n",
    "auc_rf_valid_base=pd.DataFrame({'AUC':[rf_valid_auc_base],'Classifier':'RF','Result':'Baseline'})\n",
    "auc_rf_valid_opt=pd.DataFrame({'AUC':[rf_valid_auc],'Classifier':'RF','Result':'Optimized'})\n",
    "\n",
    "AUC_Base_Opt=pd.concat([auc_sgdc_valid_base,auc_sgdc_valid_opt,auc_rf_valid_base,auc_rf_valid_opt])\n",
    "print(AUC_Base_Opt)"
   ]
  },
  {
   "cell_type": "code",
   "execution_count": 211,
   "metadata": {},
   "outputs": [
    {
     "data": {
      "text/plain": [
       "<matplotlib.axes._subplots.AxesSubplot at 0x1b72007a668>"
      ]
     },
     "execution_count": 211,
     "metadata": {},
     "output_type": "execute_result"
    },
    {
     "data": {
      "image/png": "[encoded data removed]",
      "text/plain": [
       "<Figure size 432x288 with 1 Axes>"
      ]
     },
     "metadata": {
      "needs_background": "light"
     },
     "output_type": "display_data"
    }
   ],
   "source": [
    "sb.barplot(data=AUC_Base_Opt,x='Classifier',y='AUC',hue='Result')"
   ]
  },
  {
   "cell_type": "code",
   "execution_count": 212,
   "metadata": {},
   "outputs": [],
   "source": [
    "# Save the Best Model - Tuned Random Forest Classifier\n",
    "pickle.dump(rf_random.best_estimator_,open('best_model.pkl','wb'),protocol=4)"
   ]
  },
  {
   "cell_type": "code",
   "execution_count": 213,
   "metadata": {},
   "outputs": [],
   "source": [
    "X_test=data_test[Analysis_Cols].values\n",
    "y_test=data_test['Target'].values\n",
    "\n",
    "scaler=pickle.load(open('scaler.sav','rb'))\n",
    "X_test_scale=scaler.transform(X_test)"
   ]
  },
  {
   "cell_type": "code",
   "execution_count": 214,
   "metadata": {},
   "outputs": [],
   "source": [
    "best_model=pickle.load(open('best_model.pkl','rb'))"
   ]
  },
  {
   "cell_type": "code",
   "execution_count": 215,
   "metadata": {},
   "outputs": [],
   "source": [
    "y_train_pred=best_model.predict_proba(X_train_scale)[:,1]\n",
    "y_valid_pred=best_model.predict_proba(X_valid_scale)[:,1]\n",
    "y_test_pred=best_model.predict_proba(X_test_scale)[:,1]"
   ]
  },
  {
   "cell_type": "code",
   "execution_count": 216,
   "metadata": {},
   "outputs": [
    {
     "name": "stdout",
     "output_type": "stream",
     "text": [
      "Final Evaluation\n",
      "Training\n",
      "Accuracy = 0.66 \n",
      "Precision = 0.64 \n",
      "Recall = 0.71 \n",
      "F1 Score = 0.67 \n",
      "AUC = 0.74 \n",
      " \n",
      "Validation\n",
      "Accuracy = 0.57 \n",
      "Precision = 0.16 \n",
      "Recall = 0.66 \n",
      "F1 Score = 0.26 \n",
      "AUC = 0.65 \n",
      " \n",
      "Testing\n",
      "Accuracy = 0.57 \n",
      "Precision = 0.16 \n",
      "Recall = 0.66 \n",
      "F1 Score = 0.26 \n",
      "AUC = 0.64 \n",
      " \n"
     ]
    }
   ],
   "source": [
    "print('Final Evaluation')\n",
    "print('Training')\n",
    "final_train_accurracy, final_train_precision, final_train_recall, final_train_f1, final_train_auc=report(y_train, y_train_pred, threshold)\n",
    "print('Validation')\n",
    "final_valid_accurracy,final_valid_precision, final_valid_recall, final_valid_f1, final_valid_auc=report(y_valid, y_valid_pred, threshold)\n",
    "print('Testing')\n",
    "final_test_accurracy,final_test_precision, final_test_recall, final_test_f1, final_test_auc=report(y_test, y_test_pred, threshold)"
   ]
  },
  {
   "cell_type": "code",
   "execution_count": 218,
   "metadata": {},
   "outputs": [
    {
     "name": "stdout",
     "output_type": "stream",
     "text": [
      "           Train  Validation  Testing\n",
      "Accuracy    0.66        0.57     0.57\n",
      "Precision   0.64        0.16     0.16\n",
      "Recall      0.71        0.66     0.66\n",
      "F1 Score    0.67        0.26     0.26\n",
      "AUC         0.74        0.65     0.64\n"
     ]
    }
   ],
   "source": [
    "data={'Train':[final_train_accurracy, final_train_precision, final_train_recall, final_train_f1, final_train_auc],'Validation':[final_valid_accurracy,final_valid_precision, final_valid_recall, final_valid_f1, final_valid_auc],'Testing':[final_test_accurracy,final_test_precision, final_test_recall, final_test_f1, final_test_auc]}\n",
    "final_eval=pd.DataFrame(data,index=['Accuracy','Precision','Recall','F1 Score', 'AUC'])\n",
    "print(final_eval)"
   ]
  },
  {
   "cell_type": "code",
   "execution_count": 220,
   "metadata": {},
   "outputs": [],
   "source": [
    "importances=rf.feature_importances_\n",
    "std = np.std([tree.feature_importances_ for tree in rf.estimators_],axis=0)\n",
    "indices = np.argsort(importances)[::-1]"
   ]
  },
  {
   "cell_type": "code",
   "execution_count": 221,
   "metadata": {
    "scrolled": true
   },
   "outputs": [
    {
     "name": "stdout",
     "output_type": "stream",
     "text": [
      "Feature ranking:\n",
      "1. feature 6 (0.302059)\n",
      "2. feature 11 (0.173578)\n",
      "3. feature 4 (0.082197)\n",
      "4. feature 0 (0.072116)\n",
      "5. feature 3 (0.061722)\n",
      "6. feature 5 (0.048790)\n",
      "7. feature 36 (0.040924)\n",
      "8. feature 1 (0.037890)\n",
      "9. feature 28 (0.031597)\n",
      "10. feature 2 (0.022608)\n",
      "11. feature 27 (0.015645)\n",
      "12. feature 21 (0.014933)\n",
      "13. feature 8 (0.009932)\n",
      "14. feature 17 (0.009170)\n",
      "15. feature 25 (0.008472)\n",
      "16. feature 18 (0.007612)\n",
      "17. feature 12 (0.007545)\n",
      "18. feature 26 (0.006527)\n",
      "19. feature 15 (0.006100)\n",
      "20. feature 23 (0.005424)\n",
      "21. feature 16 (0.003915)\n",
      "22. feature 20 (0.003903)\n",
      "23. feature 19 (0.003734)\n",
      "24. feature 7 (0.003543)\n",
      "25. feature 32 (0.002978)\n",
      "26. feature 9 (0.002954)\n",
      "27. feature 24 (0.002865)\n",
      "28. feature 22 (0.002266)\n",
      "29. feature 33 (0.002069)\n",
      "30. feature 35 (0.002027)\n",
      "31. feature 34 (0.001867)\n",
      "32. feature 10 (0.001810)\n",
      "33. feature 29 (0.000930)\n",
      "34. feature 30 (0.000299)\n",
      "35. feature 31 (0.000000)\n",
      "36. feature 13 (0.000000)\n",
      "37. feature 14 (0.000000)\n"
     ]
    }
   ],
   "source": [
    "# Print the feature ranking\n",
    "print(\"Feature ranking:\")\n",
    "feat_imp=[]\n",
    "for f in range(X_train.shape[1]):\n",
    "    feat_imp.append(data_Analysis.columns[indices[f]])\n",
    "    print(\"%d. feature %d (%f)\" % (f + 1, indices[f], importances[indices[f]]))"
   ]
  },
  {
   "cell_type": "code",
   "execution_count": 226,
   "metadata": {},
   "outputs": [
    {
     "name": "stdout",
     "output_type": "stream",
     "text": [
      "last_yr_visit\t0.30\n",
      "discharge_disposition_id_2\t0.17\n",
      "number_diagnoses\t0.08\n",
      "time_in_hospital\t0.07\n",
      "num_medications\t0.06\n",
      "New_Age\t0.05\n",
      "tr_insulin_1\t0.04\n",
      "num_lab_procedures\t0.04\n",
      "med_status_1\t0.03\n",
      "num_procedures\t0.02\n",
      "diabetesMed_1\t0.02\n",
      "diag_1_5.0\t0.01\n",
      "admission_type_id_3\t0.01\n",
      "diag_1_1.0\t0.01\n",
      "A1Cresult_2\t0.01\n",
      "diag_1_2.0\t0.01\n",
      "discharge_disposition_id_9\t0.01\n",
      "change_1\t0.01\n",
      "admission_source_id_4\t0.01\n",
      "max_glu_serum_2\t0.01\n",
      "admission_source_id_9\t0.00\n",
      "diag_1_4.0\t0.00\n",
      "diag_1_3.0\t0.00\n",
      "gender_1\t0.00\n",
      "tr_metformin_1\t0.00\n",
      "admission_type_id_5\t0.00\n",
      "A1Cresult_1\t0.00\n",
      "max_glu_serum_1\t0.00\n",
      "tr_glimepiride_1\t0.00\n",
      "tr_glyburide_1\t0.00\n",
      "tr_glipizide_1\t0.00\n",
      "discharge_disposition_id_18\t0.00\n",
      "med_status_2\t0.00\n",
      "med_status_3\t0.00\n",
      "med_status_4\t0.00\n",
      "admission_source_id_11\t0.00\n",
      "admission_source_id_14\t0.00\n"
     ]
    }
   ],
   "source": [
    "# Top Features affecting the Target\n",
    "for i in range(len(feat_imp)):\n",
    "    print(\"{}\\t{:.2f}\".format(feat_imp[i], importances[indices[i]]))"
   ]
  },
  {
   "cell_type": "code",
   "execution_count": null,
   "metadata": {},
   "outputs": [],
   "source": []
  }
 ],
 "metadata": {
  "kernelspec": {
   "display_name": "Python 3",
   "language": "python",
   "name": "python3"
  },
  "language_info": {
   "codemirror_mode": {
    "name": "ipython",
    "version": 3
   },
   "file_extension": ".py",
   "mimetype": "text/x-python",
   "name": "python",
   "nbconvert_exporter": "python",
   "pygments_lexer": "ipython3",
   "version": "3.8.8"
  }
 },
 "nbformat": 4,
 "nbformat_minor": 4
}
